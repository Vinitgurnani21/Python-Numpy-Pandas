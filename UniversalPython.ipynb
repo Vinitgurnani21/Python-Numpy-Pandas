{
 "cells": [
  {
   "cell_type": "markdown",
   "metadata": {},
   "source": [
    "# **Welcome to Python**"
   ]
  },
  {
   "cell_type": "markdown",
   "metadata": {},
   "source": [
    "### String Methods"
   ]
  },
  {
   "cell_type": "code",
   "execution_count": 9,
   "metadata": {},
   "outputs": [
    {
     "data": {
      "text/plain": [
       "2"
      ]
     },
     "execution_count": 9,
     "metadata": {},
     "output_type": "execute_result"
    }
   ],
   "source": [
    "# Count\n",
    "st = \"man i love python! very helpful man\"\n",
    "st.count(\"man\")"
   ]
  },
  {
   "cell_type": "code",
   "execution_count": 10,
   "metadata": {},
   "outputs": [
    {
     "name": "stdout",
     "output_type": "stream",
     "text": [
      "Parth\n"
     ]
    }
   ],
   "source": [
    "# Split\n",
    "\n",
    "#ex.1\n",
    "st = \"Parth Sharma\"\n",
    "st.split(\" \")\n",
    "\n",
    "#ex.2\n",
    "st = \"Parth Sharma\"\n",
    "fname, lname = st.split(\" \")\n",
    "print(fname)"
   ]
  },
  {
   "cell_type": "code",
   "execution_count": 11,
   "metadata": {},
   "outputs": [
    {
     "name": "stdout",
     "output_type": "stream",
     "text": [
      "parth Sharma\n"
     ]
    }
   ],
   "source": [
    "# Join\n",
    "st = [\"parth\", \"Sharma\"]\n",
    "print(\" \".join(st))"
   ]
  },
  {
   "cell_type": "code",
   "execution_count": null,
   "metadata": {},
   "outputs": [
    {
     "name": "stdout",
     "output_type": "stream",
     "text": [
      "smelly dog, smelly dog, what are they feeding you ?\n"
     ]
    }
   ],
   "source": [
    "# Replace (sub, match, count)\n",
    "st = \"smelly cat, smelly cat, what are they feeding you ?\"\n",
    "print(st.replace(\"cat\",\"dog\"))"
   ]
  },
  {
   "cell_type": "code",
   "execution_count": 13,
   "metadata": {},
   "outputs": [
    {
     "name": "stdout",
     "output_type": "stream",
     "text": [
      "parth sharma\n"
     ]
    }
   ],
   "source": [
    "# Concat\n",
    "fname = \"parth\"\n",
    "lname = \"sharma\"\n",
    "fullname = fname+' '+lname\n",
    "print(fullname)"
   ]
  },
  {
   "cell_type": "code",
   "execution_count": 14,
   "metadata": {},
   "outputs": [
    {
     "name": "stdout",
     "output_type": "stream",
     "text": [
      "7\n"
     ]
    }
   ],
   "source": [
    "# Find\n",
    "st = \"smelly cat, you are so smelly\"\n",
    "print(st.find(\"cat\"))"
   ]
  },
  {
   "cell_type": "code",
   "execution_count": 15,
   "metadata": {},
   "outputs": [
    {
     "name": "stdout",
     "output_type": "stream",
     "text": [
      "Hello , hope you are well, i love  too \n"
     ]
    }
   ],
   "source": [
    "# How to take input from user\n",
    "name = input(\"Enter your name :- \")\n",
    "fav_flower = input(\"Enter you favorite flower :- \")\n",
    "print(f\"Hello {name}, hope you are well, i love {fav_flower} too \")"
   ]
  },
  {
   "cell_type": "markdown",
   "metadata": {},
   "source": [
    "### LIST METHODS"
   ]
  },
  {
   "cell_type": "code",
   "execution_count": 16,
   "metadata": {},
   "outputs": [
    {
     "data": {
      "text/plain": [
       "['avengers', 'thor', 'friends', 'farzi', 'suits']"
      ]
     },
     "execution_count": 16,
     "metadata": {},
     "output_type": "execute_result"
    }
   ],
   "source": [
    "film = [\"avengers\", \"thor\", \"friends\", \"farzi\"]\n",
    "\n",
    "# Append(value)\n",
    "film.append(\"suits\")\n",
    "film"
   ]
  },
  {
   "cell_type": "code",
   "execution_count": null,
   "metadata": {},
   "outputs": [
    {
     "data": {
      "text/plain": [
       "['avengers', 'suits', 'thor', 'friends', 'farzi', 'suits']"
      ]
     },
     "execution_count": 17,
     "metadata": {},
     "output_type": "execute_result"
    }
   ],
   "source": [
    "# Insert(index_no,value)\n",
    "film.insert(1,\"suits\")\n",
    "film"
   ]
  },
  {
   "cell_type": "code",
   "execution_count": null,
   "metadata": {},
   "outputs": [
    {
     "data": {
      "text/plain": [
       "['avengers',\n",
       " 'suits',\n",
       " 'thor',\n",
       " 'friends',\n",
       " 'farzi',\n",
       " 'suits',\n",
       " 'avatar',\n",
       " 'extraction',\n",
       " 'narcos']"
      ]
     },
     "execution_count": 18,
     "metadata": {},
     "output_type": "execute_result"
    }
   ],
   "source": [
    "# Extend(iterable)\n",
    "film2 = [\"avatar\", \"extraction\", \"narcos\"]\n",
    "film.extend(film2)\n",
    "film"
   ]
  },
  {
   "cell_type": "code",
   "execution_count": null,
   "metadata": {},
   "outputs": [
    {
     "data": {
      "text/plain": [
       "'suits'"
      ]
     },
     "execution_count": 19,
     "metadata": {},
     "output_type": "execute_result"
    }
   ],
   "source": [
    "# Pop\n",
    "film.pop()\n",
    "film.pop(1)"
   ]
  },
  {
   "cell_type": "code",
   "execution_count": 20,
   "metadata": {},
   "outputs": [
    {
     "data": {
      "text/plain": [
       "['avengers', 'thor', 'friends', 'farzi', 'avatar', 'extraction']"
      ]
     },
     "execution_count": 20,
     "metadata": {},
     "output_type": "execute_result"
    }
   ],
   "source": [
    "# Remove\n",
    "film.remove(\"suits\")\n",
    "film"
   ]
  },
  {
   "cell_type": "code",
   "execution_count": 21,
   "metadata": {},
   "outputs": [
    {
     "data": {
      "text/plain": [
       "['avengers', 'friends', 'farzi', 'avatar', 'extraction']"
      ]
     },
     "execution_count": 21,
     "metadata": {},
     "output_type": "execute_result"
    }
   ],
   "source": [
    "# del\n",
    "del film[1]\n",
    "film"
   ]
  },
  {
   "cell_type": "code",
   "execution_count": 22,
   "metadata": {},
   "outputs": [
    {
     "data": {
      "text/plain": [
       "[5, 4, 3, 2, 1]"
      ]
     },
     "execution_count": 22,
     "metadata": {},
     "output_type": "execute_result"
    }
   ],
   "source": [
    "# Reverse\n",
    "num = [1, 2, 3, 4, 5]\n",
    "num.reverse()\n",
    "num\n",
    "\n",
    "#     or     #\n",
    "num[::-1]\n",
    "num"
   ]
  },
  {
   "cell_type": "code",
   "execution_count": 23,
   "metadata": {},
   "outputs": [
    {
     "data": {
      "text/plain": [
       "[5, 4, 3, 2, 1]"
      ]
     },
     "execution_count": 23,
     "metadata": {},
     "output_type": "execute_result"
    }
   ],
   "source": [
    "# Sort\n",
    "num = [1, 2, 3, 4, 5]\n",
    "num.sort(reverse = True)\n",
    "num"
   ]
  },
  {
   "cell_type": "code",
   "execution_count": null,
   "metadata": {},
   "outputs": [
    {
     "data": {
      "text/plain": [
       "2"
      ]
     },
     "execution_count": 24,
     "metadata": {},
     "output_type": "execute_result"
    }
   ],
   "source": [
    "# Index\n",
    "num = [1, 2, 3, 4, 5]\n",
    "num.index(3)"
   ]
  },
  {
   "cell_type": "code",
   "execution_count": 25,
   "metadata": {},
   "outputs": [],
   "source": [
    "# Clear\n",
    "film2.clear()"
   ]
  },
  {
   "cell_type": "code",
   "execution_count": 26,
   "metadata": {},
   "outputs": [
    {
     "data": {
      "text/plain": [
       "[1, 2, 3, 4, 5]"
      ]
     },
     "execution_count": 26,
     "metadata": {},
     "output_type": "execute_result"
    }
   ],
   "source": [
    "# Copy\n",
    "num_copy = num.copy()\n",
    "num_copy"
   ]
  },
  {
   "cell_type": "code",
   "execution_count": 27,
   "metadata": {},
   "outputs": [
    {
     "name": "stdout",
     "output_type": "stream",
     "text": [
      "poha\n",
      "upma\n",
      "dhokla\n",
      "koki\n"
     ]
    }
   ],
   "source": [
    "# Looping (to understand list comprehension)\n",
    "fav_bk = [\"poha\", \"upma\", \"dhokla\", \"koki\"]\n",
    "\n",
    "for bk in fav_bk:\n",
    "    print(bk)"
   ]
  },
  {
   "cell_type": "code",
   "execution_count": 28,
   "metadata": {},
   "outputs": [
    {
     "data": {
      "text/plain": [
       "['poha', 'upma', 'dhokla', 'koki']"
      ]
     },
     "execution_count": 28,
     "metadata": {},
     "output_type": "execute_result"
    }
   ],
   "source": [
    "# List Comprehension\n",
    "c = [bk for bk in fav_bk]\n",
    "c"
   ]
  },
  {
   "cell_type": "code",
   "execution_count": 29,
   "metadata": {},
   "outputs": [
    {
     "name": "stdout",
     "output_type": "stream",
     "text": [
      "1\n",
      "2\n",
      "3\n",
      "4\n",
      "5\n",
      "6\n",
      "7\n",
      "8\n",
      "9\n",
      "10\n",
      "1\n",
      "3\n",
      "5\n",
      "7\n",
      "9\n",
      "poha\n",
      "upma\n",
      "dhokla\n",
      "koki\n",
      "0 poha\n",
      "1 upma\n",
      "2 dhokla\n",
      "3 koki\n"
     ]
    }
   ],
   "source": [
    "# Range(start, end, step)\n",
    "\n",
    "# ex.1\n",
    "for i in range(1,11):\n",
    "    print(i)\n",
    "\n",
    "# ex.2\n",
    "for i in range(1,11,2):\n",
    "    print(i)\n",
    "    \n",
    "# ex.3\n",
    "for bk in range(len(fav_bk)):\n",
    "    print(fav_bk[bk])\n",
    "    \n",
    "# ex.4\n",
    "for bk in range(len(fav_bk)):\n",
    "    print(bk, fav_bk[bk])"
   ]
  },
  {
   "cell_type": "markdown",
   "metadata": {},
   "source": [
    "### Tuple Methods"
   ]
  },
  {
   "cell_type": "code",
   "execution_count": 30,
   "metadata": {},
   "outputs": [
    {
     "data": {
      "text/plain": [
       "1"
      ]
     },
     "execution_count": 30,
     "metadata": {},
     "output_type": "execute_result"
    }
   ],
   "source": [
    "# Count\n",
    "film = (\"chuck\",\"thor\",\"lily\")\n",
    "film.count(\"lily\")"
   ]
  },
  {
   "cell_type": "code",
   "execution_count": 31,
   "metadata": {},
   "outputs": [
    {
     "data": {
      "text/plain": [
       "'chuck'"
      ]
     },
     "execution_count": 31,
     "metadata": {},
     "output_type": "execute_result"
    }
   ],
   "source": [
    "# Index\n",
    "film.index(\"lily\")\n",
    "\n",
    "#    or    #\n",
    "\n",
    "film[0]"
   ]
  },
  {
   "cell_type": "code",
   "execution_count": 32,
   "metadata": {},
   "outputs": [
    {
     "data": {
      "text/plain": [
       "('chuck', 'thor', 'lily', 'thor')"
      ]
     },
     "execution_count": 32,
     "metadata": {},
     "output_type": "execute_result"
    }
   ],
   "source": [
    "# If we want to add value in tuple\n",
    "\n",
    "film2 = list(film)\n",
    "film2.append(\"thor\")\n",
    "tuple(film2)\n",
    "\n",
    "# Note :- This is not recommended"
   ]
  },
  {
   "cell_type": "markdown",
   "metadata": {},
   "source": [
    "### Set Methods"
   ]
  },
  {
   "cell_type": "code",
   "execution_count": 33,
   "metadata": {},
   "outputs": [
    {
     "data": {
      "text/plain": [
       "{'apple', 'banana', 'grapes', 'orange', 'plums'}"
      ]
     },
     "execution_count": 33,
     "metadata": {},
     "output_type": "execute_result"
    }
   ],
   "source": [
    "# Add\n",
    "my_set = set([\"apple\", \"banana\", \"orange\"])\n",
    "my_set.add(\"plums\")\n",
    "my_set.add(\"grapes\")\n",
    "my_set"
   ]
  },
  {
   "cell_type": "code",
   "execution_count": 34,
   "metadata": {},
   "outputs": [
    {
     "data": {
      "text/plain": [
       "{'apple', 'banana', 'orange', 'plums'}"
      ]
     },
     "execution_count": 34,
     "metadata": {},
     "output_type": "execute_result"
    }
   ],
   "source": [
    "# Remove\n",
    "my_set.remove(\"grapes\")\n",
    "my_set"
   ]
  },
  {
   "cell_type": "code",
   "execution_count": 35,
   "metadata": {},
   "outputs": [
    {
     "data": {
      "text/plain": [
       "'orange'"
      ]
     },
     "execution_count": 35,
     "metadata": {},
     "output_type": "execute_result"
    }
   ],
   "source": [
    "# Pop\n",
    "my_set.pop()"
   ]
  },
  {
   "cell_type": "code",
   "execution_count": 36,
   "metadata": {},
   "outputs": [
    {
     "data": {
      "text/plain": [
       "set()"
      ]
     },
     "execution_count": 36,
     "metadata": {},
     "output_type": "execute_result"
    }
   ],
   "source": [
    "# Clear\n",
    "my_set.clear()\n",
    "my_set"
   ]
  },
  {
   "cell_type": "code",
   "execution_count": 37,
   "metadata": {},
   "outputs": [
    {
     "name": "stdout",
     "output_type": "stream",
     "text": [
      "a union b is {1, 2, 3, 4, 5, 6}\n"
     ]
    }
   ],
   "source": [
    "# Union\n",
    "a = {1,2,3,4}\n",
    "b = {1,5,6,4}\n",
    "\n",
    "print(f\"a union b is {a.union(b)}\")"
   ]
  },
  {
   "cell_type": "code",
   "execution_count": 38,
   "metadata": {},
   "outputs": [
    {
     "name": "stdout",
     "output_type": "stream",
     "text": [
      "a intersection b is {1, 4}\n"
     ]
    }
   ],
   "source": [
    "# Intersection\n",
    "a = {1,2,3,4}\n",
    "b = {1,5,6,4}\n",
    "\n",
    "print(f\"a intersection b is {a.intersection(b)}\")"
   ]
  },
  {
   "cell_type": "code",
   "execution_count": 39,
   "metadata": {},
   "outputs": [
    {
     "name": "stdout",
     "output_type": "stream",
     "text": [
      "Elements in a but not in b are {2, 3}\n"
     ]
    }
   ],
   "source": [
    "# Difference\n",
    "a = {1,2,3,4}\n",
    "b = {1,5,6,4}\n",
    "\n",
    "print(f\"Elements in a but not in b are {a.difference(b)}\")"
   ]
  },
  {
   "cell_type": "code",
   "execution_count": 40,
   "metadata": {},
   "outputs": [
    {
     "name": "stdout",
     "output_type": "stream",
     "text": [
      "symmetric difference between a & b is {1, 2, 5, 6, 7, 9}\n"
     ]
    }
   ],
   "source": [
    "# Symmetric difference\n",
    "a = {1,2,3,4,5}\n",
    "b = {6,7,3,9,4}\n",
    "\n",
    "print(f\"symmetric difference between a & b is {a.symmetric_difference(b)}\")"
   ]
  },
  {
   "cell_type": "code",
   "execution_count": 41,
   "metadata": {},
   "outputs": [
    {
     "name": "stdout",
     "output_type": "stream",
     "text": [
      "After updation, elements in set a are {17, 19, 11, 13, 15}\n"
     ]
    }
   ],
   "source": [
    "# Update\n",
    "a = {11,13,15}\n",
    "b = {13,17,19,11}\n",
    "\n",
    "a.update(b)\n",
    "print(f\"After updation, elements in set a are {a}\")"
   ]
  },
  {
   "cell_type": "markdown",
   "metadata": {},
   "source": [
    "### Dictionary Methods"
   ]
  },
  {
   "cell_type": "code",
   "execution_count": 42,
   "metadata": {},
   "outputs": [
    {
     "name": "stdout",
     "output_type": "stream",
     "text": [
      "keys and it's values are :- \n",
      "{1: 'Venom', 2: 'Touch'}\n"
     ]
    },
    {
     "data": {
      "text/plain": [
       "{'hey': 2, 'wow': [1, 2, 3, 4, 5]}"
      ]
     },
     "execution_count": 42,
     "metadata": {},
     "output_type": "execute_result"
    }
   ],
   "source": [
    "dict = {1 : 'Venom' , 2 : 'Touch'}\n",
    "print(\"keys and it's values are :- \")\n",
    "print(dict)\n",
    "\n",
    "dict2 = {'hey' : 2, 'wow' : [1,2,3,4,5]}\n",
    "dict2"
   ]
  },
  {
   "cell_type": "code",
   "execution_count": 43,
   "metadata": {},
   "outputs": [
    {
     "data": {
      "text/plain": [
       "'marvel'"
      ]
     },
     "execution_count": 43,
     "metadata": {},
     "output_type": "execute_result"
    }
   ],
   "source": [
    "film = {\"ironman\" : \"marvel\",\n",
    "        \"superman\" : \"dc\",\n",
    "        \"yoda\" : \"starwars\",\n",
    "        \" \" : \" \"}\n",
    "\n",
    "# Access value using key\n",
    "film[\"ironman\"]\n",
    "\n",
    "# get()\n",
    "film.get(\"ironman\")\n"
   ]
  },
  {
   "cell_type": "code",
   "execution_count": 44,
   "metadata": {},
   "outputs": [
    {
     "data": {
      "text/plain": [
       "dict_keys(['ironman', 'superman', 'yoda', ' '])"
      ]
     },
     "execution_count": 44,
     "metadata": {},
     "output_type": "execute_result"
    }
   ],
   "source": [
    "# keys()\n",
    "film.keys()"
   ]
  },
  {
   "cell_type": "code",
   "execution_count": 45,
   "metadata": {},
   "outputs": [
    {
     "data": {
      "text/plain": [
       "{'ironman': 'marvel',\n",
       " 'superman': 'dc',\n",
       " 'yoda': 'starwars',\n",
       " ' ': ' ',\n",
       " 'thor': 'marvel'}"
      ]
     },
     "execution_count": 45,
     "metadata": {},
     "output_type": "execute_result"
    }
   ],
   "source": [
    "# add()\n",
    "film.update([(\"thor\",\"marvel\")])\n",
    "film"
   ]
  },
  {
   "cell_type": "code",
   "execution_count": 46,
   "metadata": {},
   "outputs": [
    {
     "data": {
      "text/plain": [
       "dict_values(['marvel', 'dc', 'starwars', ' ', 'marvel'])"
      ]
     },
     "execution_count": 46,
     "metadata": {},
     "output_type": "execute_result"
    }
   ],
   "source": [
    "# values()\n",
    "film.values()"
   ]
  },
  {
   "cell_type": "code",
   "execution_count": 47,
   "metadata": {},
   "outputs": [
    {
     "data": {
      "text/plain": [
       "dict_items([('ironman', 'marvel'), ('superman', 'dc'), ('yoda', 'starwars'), (' ', ' '), ('thor', 'marvel')])"
      ]
     },
     "execution_count": 47,
     "metadata": {},
     "output_type": "execute_result"
    }
   ],
   "source": [
    "# items()\n",
    "film.items()"
   ]
  },
  {
   "cell_type": "code",
   "execution_count": 48,
   "metadata": {},
   "outputs": [
    {
     "data": {
      "text/plain": [
       "{'ironman': 'marvel', 'superman': 'dc', 'yoda': 'starwars', ' ': ' '}"
      ]
     },
     "execution_count": 48,
     "metadata": {},
     "output_type": "execute_result"
    }
   ],
   "source": [
    "# pop()\n",
    "film.pop(\"thor\")\n",
    "film"
   ]
  },
  {
   "cell_type": "code",
   "execution_count": 49,
   "metadata": {},
   "outputs": [
    {
     "name": "stdout",
     "output_type": "stream",
     "text": [
      "ironman : marvel\n",
      "superman : dc\n",
      "yoda : starwars\n",
      "  :  \n"
     ]
    }
   ],
   "source": [
    "# Dictionary comprehension\n",
    "\n",
    "# 1st way\n",
    "for key, value in film.items():\n",
    "    print(f\"{key} : {value}\")"
   ]
  },
  {
   "cell_type": "code",
   "execution_count": 50,
   "metadata": {},
   "outputs": [
    {
     "data": {
      "text/plain": [
       "{'ironman': 'marvel', 'superman': 'dc', 'yoda': 'starwars', ' ': ' '}"
      ]
     },
     "execution_count": 50,
     "metadata": {},
     "output_type": "execute_result"
    }
   ],
   "source": [
    "# 2nd way (recommended)\n",
    "dist_comp = {key : value for (key, value) in film.items()}\n",
    "dist_comp"
   ]
  },
  {
   "cell_type": "code",
   "execution_count": 51,
   "metadata": {},
   "outputs": [
    {
     "data": {
      "text/plain": [
       "'huTmnV'"
      ]
     },
     "execution_count": 51,
     "metadata": {},
     "output_type": "execute_result"
    }
   ],
   "source": [
    "# Slicing in python\n",
    "\n",
    "name = \"Vinit Gurnani\"\n",
    "name[6:]\n",
    "\n",
    "\n",
    "a = \"Venom Touch\"\n",
    "t = slice(-1, -12, -2)\n",
    "a[t]"
   ]
  },
  {
   "cell_type": "markdown",
   "metadata": {},
   "source": [
    "### Conditionsl Statement in python"
   ]
  },
  {
   "cell_type": "code",
   "execution_count": 52,
   "metadata": {},
   "outputs": [
    {
     "name": "stdout",
     "output_type": "stream",
     "text": [
      "0 pear\n",
      "1 soap\n",
      "2 umbrella\n",
      "3 tissue\n",
      "4 pen\n"
     ]
    }
   ],
   "source": [
    "# for loop\n",
    "\n",
    "todo_list = [\"pear\", \"soap\", \"umbrella\", \"tissue\", \"pen\"]\n",
    "\n",
    "# 1st way :- loop index\n",
    "\n",
    "for i in range(len(todo_list)):\n",
    "    print(i,todo_list[i])\n"
   ]
  },
  {
   "cell_type": "code",
   "execution_count": 53,
   "metadata": {},
   "outputs": [
    {
     "name": "stdout",
     "output_type": "stream",
     "text": [
      "pear\n",
      "soap\n",
      "umbrella\n",
      "tissue\n",
      "pen\n"
     ]
    }
   ],
   "source": [
    "# 2nd way :- value index\n",
    "\n",
    "for i in todo_list:\n",
    "    print(i)"
   ]
  },
  {
   "cell_type": "code",
   "execution_count": 54,
   "metadata": {},
   "outputs": [
    {
     "name": "stdout",
     "output_type": "stream",
     "text": [
      "0 pear, 1 soap, 2 umbrella, 3 tissue, 4 pen, "
     ]
    }
   ],
   "source": [
    "# also bonus way\n",
    "\n",
    "for i in range(len(todo_list)):\n",
    "    print(i, todo_list[i], end = \", \")"
   ]
  },
  {
   "cell_type": "code",
   "execution_count": 55,
   "metadata": {},
   "outputs": [
    {
     "name": "stdout",
     "output_type": "stream",
     "text": [
      "parth\n",
      "--------\n",
      "vinit\n",
      "--------\n",
      "ryoiki\n",
      "--------\n",
      "kanupriya\n",
      "--------\n",
      "irfan\n",
      "--------\n",
      "irfan found\n",
      "After break\n",
      "loop is terminated\n"
     ]
    }
   ],
   "source": [
    "# Break statement\n",
    "\n",
    "name = [\"parth\", \"vinit\", \"ryoiki\", \"kanupriya\", \"irfan\",\"tania\", \"shivam\"]\n",
    "\n",
    "for i in range(len(name)):\n",
    "    print(name[i])\n",
    "    print(\"--------\")\n",
    "    if name[i] == \"irfan\":\n",
    "        print(\"irfan found\")\n",
    "        print(\"After break\")\n",
    "        break\n",
    "        print(\"not executed\")\n",
    "print(\"loop is terminated\")"
   ]
  },
  {
   "cell_type": "code",
   "execution_count": 56,
   "metadata": {},
   "outputs": [
    {
     "name": "stdout",
     "output_type": "stream",
     "text": [
      "parth\n",
      "vinit\n",
      "ryoiki\n",
      "kanupriya\n",
      "After continue\n",
      "tania\n",
      "shivam\n"
     ]
    }
   ],
   "source": [
    "# Continue statement\n",
    "\n",
    "for i in range(len(name)):\n",
    "    if name[i] == \"irfan\":\n",
    "        print(\"After continue\")\n",
    "        continue\n",
    "    print(name[i])"
   ]
  },
  {
   "cell_type": "code",
   "execution_count": 57,
   "metadata": {},
   "outputs": [
    {
     "name": "stdout",
     "output_type": "stream",
     "text": [
      "parth\n",
      "vinit\n",
      "ryoiki\n",
      "kanupriya\n",
      "After pass\n",
      "irfan\n",
      "tania\n",
      "shivam\n"
     ]
    }
   ],
   "source": [
    "# Pass statement\n",
    "\n",
    "for i in range(len(name)):\n",
    "    if name[i] == \"irfan\":\n",
    "        print(\"After pass\")\n",
    "        pass\n",
    "    print(name[i])"
   ]
  },
  {
   "cell_type": "code",
   "execution_count": 58,
   "metadata": {},
   "outputs": [
    {
     "name": "stdout",
     "output_type": "stream",
     "text": [
      "** outer loop ** 1 executed\n",
      "-- inner loop -- 1 executed\n",
      "-- inner loop -- 2 executed\n",
      "** outer loop ** 2 executed\n",
      "-- inner loop -- 1 executed\n",
      "-- inner loop -- 2 executed\n",
      "** outer loop ** 3 executed\n",
      "-- inner loop -- 1 executed\n",
      "-- inner loop -- 2 executed\n"
     ]
    }
   ],
   "source": [
    "# While loop\n",
    "\n",
    "i = 1\n",
    "while i <= 3:\n",
    "    print(\"** outer loop **\",i,\"executed\")\n",
    "    j = 1\n",
    "    while j <=2:\n",
    "        print(\"-- inner loop --\",j,\"executed\")\n",
    "        j += 1\n",
    "    i += 1"
   ]
  },
  {
   "cell_type": "code",
   "execution_count": 59,
   "metadata": {},
   "outputs": [],
   "source": [
    "# User defined function \n",
    "\n",
    "def perc_to_grade(name, per_value):\n",
    "\n",
    "    if per_value > 100:\n",
    "        return(f\"Who the hell you think you are {name}, enter your marks within limit\")\n",
    "    \n",
    "    elif per_value >= 90 and per_value <= 100:\n",
    "        return(f\"Congrats {name} ! you have got A+ grade by your brilliant work\")\n",
    "    \n",
    "    elif per_value >= 80 and per_value < 90:\n",
    "        return(f\"great job {name} ! you have got A grade, keep it up\")\n",
    "    \n",
    "    elif per_value >= 65 and per_value < 80:\n",
    "        return(f\"You have got B grade, practice more dear {name}\")\n",
    "    \n",
    "    elif per_value >= 50 and per_value < 65:\n",
    "        return(f\"Don't you feel shame {name} ?, anyway here's you C grade\")\n",
    "    \n",
    "    else:\n",
    "        return(f\"Haha, what are you here for {name}, you are failed\")    "
   ]
  },
  {
   "cell_type": "code",
   "execution_count": 60,
   "metadata": {},
   "outputs": [
    {
     "data": {
      "text/plain": [
       "'great job Vinit Gurnani ! you have got A grade, keep it up'"
      ]
     },
     "execution_count": 60,
     "metadata": {},
     "output_type": "execute_result"
    }
   ],
   "source": [
    "perc_to_grade('Vinit Gurnani',81)"
   ]
  },
  {
   "cell_type": "code",
   "execution_count": 61,
   "metadata": {},
   "outputs": [],
   "source": [
    "# Args \n",
    "\n",
    "def adder(*num):\n",
    "    sum = 0\n",
    "    \n",
    "    for n in num:\n",
    "        sum = sum + n\n",
    "    \n",
    "    print(f\"Sum of given number is {sum}\")"
   ]
  },
  {
   "cell_type": "code",
   "execution_count": 62,
   "metadata": {},
   "outputs": [
    {
     "name": "stdout",
     "output_type": "stream",
     "text": [
      "Sum of given number is 8\n",
      "Sum of given number is 22\n",
      "Sum of given number is 45\n"
     ]
    }
   ],
   "source": [
    "adder(3,5)\n",
    "adder(4,5,6,7)\n",
    "adder(9,17,19)"
   ]
  },
  {
   "cell_type": "code",
   "execution_count": 63,
   "metadata": {},
   "outputs": [],
   "source": [
    "# *Args & **kwargs\n",
    "\n",
    "def my_arg(normal, *args, **kwargs):\n",
    "    \n",
    "    for item in args:\n",
    "        print(item)\n",
    "    print()\n",
    "        \n",
    "    print(\"There professions are as follows : \")\n",
    "    print()\n",
    "        \n",
    "    for key, value in kwargs.items():\n",
    "        print(f\"{key} is {value}\")"
   ]
  },
  {
   "cell_type": "code",
   "execution_count": 64,
   "metadata": {},
   "outputs": [
    {
     "name": "stdout",
     "output_type": "stream",
     "text": [
      "This is normal argument\n",
      "\n",
      "vinit gurnani\n",
      "ashish datta\n",
      "anil kota\n",
      "shivam agarwal\n",
      "ryoiki tenkai\n",
      "\n",
      "There professions are as follows : \n",
      "\n",
      "vinit gurnani is data analyst\n",
      "ashish datta is software engineer\n",
      "anil kota is senior data scientist\n",
      "shivam agarwal is finance manager\n",
      "ryoiki tenkai is head of department\n"
     ]
    }
   ],
   "source": [
    "normal = print(\"This is normal argument\\n\")\n",
    "\n",
    "wow = [\"vinit gurnani\", \"ashish datta\", \"anil kota\", \"shivam agarwal\", \"ryoiki tenkai\"]\n",
    "\n",
    "yeah = {\"vinit gurnani\" : \"data analyst\",\n",
    "        \"ashish datta\" : \"software engineer\",\n",
    "        \"anil kota\" : \"senior data scientist\",\n",
    "        \"shivam agarwal\" : \"finance manager\",\n",
    "        \"ryoiki tenkai\" : \"head of department\"}\n",
    "\n",
    "my_arg(normal,*wow,**yeah)"
   ]
  },
  {
   "cell_type": "code",
   "execution_count": 65,
   "metadata": {},
   "outputs": [
    {
     "name": "stdout",
     "output_type": "stream",
     "text": [
      " MASSACHUSSETS INSTITUTE OF TECHNOLOGY\n"
     ]
    }
   ],
   "source": [
    "# Lambda function\n",
    "\n",
    "str1 = \" massachussets institute of technology\"\n",
    "\n",
    "upper = lambda string : string.upper()\n",
    "print(upper(str1))"
   ]
  },
  {
   "cell_type": "code",
   "execution_count": 66,
   "metadata": {},
   "outputs": [
    {
     "data": {
      "text/plain": [
       "27"
      ]
     },
     "execution_count": 66,
     "metadata": {},
     "output_type": "execute_result"
    }
   ],
   "source": [
    "cube = lambda n : n ** 3\n",
    "cube(3)"
   ]
  },
  {
   "cell_type": "code",
   "execution_count": 67,
   "metadata": {},
   "outputs": [
    {
     "name": "stdout",
     "output_type": "stream",
     "text": [
      "5.0\n",
      "120\n"
     ]
    }
   ],
   "source": [
    "# importing type 1\n",
    "\n",
    "import math\n",
    "\n",
    "print(math.sqrt(25))\n",
    "print(math.factorial(5))"
   ]
  },
  {
   "cell_type": "code",
   "execution_count": 68,
   "metadata": {},
   "outputs": [
    {
     "name": "stdout",
     "output_type": "stream",
     "text": [
      "120\n"
     ]
    }
   ],
   "source": [
    "# importing type 2\n",
    "\n",
    "from math import factorial as fac\n",
    "\n",
    "print(fac(5))"
   ]
  },
  {
   "cell_type": "code",
   "execution_count": 69,
   "metadata": {},
   "outputs": [],
   "source": [
    "# try....except clause\n",
    "\n",
    "def div(a, b):\n",
    "    try:\n",
    "        result = a / b\n",
    "        print(f\"{a} divide by {b} is {result}\")\n",
    "    except ZeroDivisionError:\n",
    "            print(\"denominator cannot be zero\")\n",
    "    except TypeError:\n",
    "            print(\"denominator cannot be string\")"
   ]
  },
  {
   "cell_type": "code",
   "execution_count": 70,
   "metadata": {},
   "outputs": [
    {
     "name": "stdout",
     "output_type": "stream",
     "text": [
      "denominator cannot be zero\n",
      "denominator cannot be string\n",
      "3 divide by -2 is -1.5\n"
     ]
    }
   ],
   "source": [
    "div(4, 0)\n",
    "div(5, 'p')\n",
    "div(3, -2)"
   ]
  },
  {
   "cell_type": "code",
   "execution_count": 71,
   "metadata": {},
   "outputs": [
    {
     "name": "stdout",
     "output_type": "stream",
     "text": [
      "you are playing GTA V as Trevor Phillips\n"
     ]
    }
   ],
   "source": [
    "# Another type of import\n",
    "# substitute method using template\n",
    "\n",
    "from string import Template\n",
    "\n",
    "templ = Template(\"you are playing ${game} as ${character}\")\n",
    "\n",
    "data = {\"game\" : \"GTA V\",\n",
    "        \"character\" : \"Trevor Phillips\"}\n",
    "\n",
    "st = templ.substitute(data)\n",
    "print(st)"
   ]
  },
  {
   "cell_type": "code",
   "execution_count": 72,
   "metadata": {},
   "outputs": [
    {
     "name": "stdout",
     "output_type": "stream",
     "text": [
      "Name : tesla, Gears : 5\n"
     ]
    }
   ],
   "source": [
    "# create class\n",
    "\n",
    "class car:\n",
    "    name = \" \"    #\\ these are called as parameters\n",
    "    gears = 0     #/ or attributes\n",
    "    \n",
    "# create an object/instance of a class\n",
    "\n",
    "car1 = car()         #callable #always mention () with class\n",
    "\n",
    "# modify the attributes\n",
    "\n",
    "car1.name = \"tesla\"\n",
    "car1.gears = 5\n",
    "\n",
    "#print\n",
    "\n",
    "print(f\"Name : {car1.name}, Gears : {car1.gears}\")"
   ]
  },
  {
   "cell_type": "code",
   "execution_count": 73,
   "metadata": {},
   "outputs": [
    {
     "name": "stdout",
     "output_type": "stream",
     "text": [
      "length is 25\n",
      "breadth is 35\n",
      "Area of room is 875\n"
     ]
    }
   ],
   "source": [
    "# Initialization of class\n",
    "\n",
    "class room:\n",
    "    #attributes\n",
    "    length = 0\n",
    "    breadth = 0\n",
    "    \n",
    "    #method\n",
    "    def calculate_area(self):\n",
    "        print(f\"Area of room is {self.length * self.breadth}\")\n",
    "        \n",
    "#create an object/instance of a class\n",
    "bedroom = room()\n",
    "\n",
    "#modify\n",
    "bedroom.length = 25\n",
    "bedroom.breadth = 35\n",
    "\n",
    "print(f\"length is {bedroom.length}\")\n",
    "print(f\"breadth is {bedroom.breadth}\")\n",
    "bedroom.calculate_area()"
   ]
  },
  {
   "cell_type": "code",
   "execution_count": 74,
   "metadata": {},
   "outputs": [
    {
     "name": "stdout",
     "output_type": "stream",
     "text": [
      "my daughter name is veera jain\n"
     ]
    }
   ],
   "source": [
    "# constructor\n",
    "\n",
    "class person:\n",
    "    \n",
    "    def __init__(self, fname, lname):\n",
    "        self.fname = fname\n",
    "        self.lname = lname\n",
    "        \n",
    "child1 = person(\"veera\",\"jain\")\n",
    "\n",
    "print(f\"my daughter name is {child1.fname} {child1.lname}\")"
   ]
  },
  {
   "cell_type": "code",
   "execution_count": 75,
   "metadata": {},
   "outputs": [],
   "source": [
    "# example\n",
    "\n",
    "class user:\n",
    "    \n",
    "    #constructor\n",
    "    def __init__(self, name):\n",
    "        self.name = name\n",
    "        self.cibil = 800\n",
    "        self.deduct = 20\n",
    "    \n",
    "    #method    \n",
    "    def check_cibil(self):\n",
    "        self.cibil = self.cibil - self.deduct\n",
    "        print(f\"Hey {self.name}, your cibil score is {self.cibil}\")\n",
    "\n",
    "vinit = user(\"vinit gurnani\")"
   ]
  },
  {
   "cell_type": "code",
   "execution_count": 76,
   "metadata": {},
   "outputs": [
    {
     "data": {
      "text/plain": [
       "800"
      ]
     },
     "execution_count": 76,
     "metadata": {},
     "output_type": "execute_result"
    }
   ],
   "source": [
    "vinit.cibil"
   ]
  },
  {
   "cell_type": "code",
   "execution_count": 77,
   "metadata": {},
   "outputs": [
    {
     "name": "stdout",
     "output_type": "stream",
     "text": [
      "Hey vinit gurnani, your cibil score is 780\n"
     ]
    }
   ],
   "source": [
    "vinit.check_cibil()"
   ]
  },
  {
   "cell_type": "code",
   "execution_count": 78,
   "metadata": {},
   "outputs": [
    {
     "data": {
      "text/plain": [
       "780"
      ]
     },
     "execution_count": 78,
     "metadata": {},
     "output_type": "execute_result"
    }
   ],
   "source": [
    "vinit.cibil"
   ]
  },
  {
   "cell_type": "code",
   "execution_count": null,
   "metadata": {},
   "outputs": [],
   "source": [
    "class fighter:\n",
    "    \n",
    "    #constructor\n",
    "    def __init__(self, name):   #instance variable\n",
    "        self.name = name\n",
    "        self.health = 100\n",
    "        self.damage = 10\n",
    "        \n",
    "    # overriding string method (use while method has not 'hasattr' and 'setattr')\n",
    "    def __str__(self):\n",
    "        return(f\"{self.name} : {self.health}\")\n",
    "    \n",
    "    # # overriding method too (use while method has 'hasattr' or 'setattr')\n",
    "    # def __repr__(self):\n",
    "    #     return(f\"{self.name} : {self.health}\")\n",
    "    \n",
    "tom = fighter(\"tom\")\n",
    "jerry = fighter(\"jerry\")"
   ]
  },
  {
   "cell_type": "code",
   "execution_count": null,
   "metadata": {},
   "outputs": [
    {
     "data": {
      "text/plain": [
       "<__main__.fighter at 0x205a8367740>"
      ]
     },
     "execution_count": 80,
     "metadata": {},
     "output_type": "execute_result"
    }
   ],
   "source": [
    "tom  # without overriding, it's not readable"
   ]
  },
  {
   "cell_type": "code",
   "execution_count": null,
   "metadata": {},
   "outputs": [
    {
     "name": "stdout",
     "output_type": "stream",
     "text": [
      "tom : 100\n"
     ]
    }
   ],
   "source": [
    "print(tom) # with overriding, it's readable"
   ]
  },
  {
   "cell_type": "code",
   "execution_count": 82,
   "metadata": {},
   "outputs": [
    {
     "name": "stdout",
     "output_type": "stream",
     "text": [
      "Inside function {'vinit': 21, 'anil': 30, 'jason': 22, 'sam': 25, 'aish': 19}\n",
      "Outside function {'vinit': 21, 'anil': 30, 'jason': 22, 'sam': 25, 'aish': 19}\n"
     ]
    }
   ],
   "source": [
    "# pass by reference\n",
    "\n",
    "student = {\"vinit\" : 21, \"anil\" : 30, \"jason\" : 22}\n",
    "\n",
    "def tp(student):\n",
    "    new = {\"sam\" : 25, \"aish\" : 19}\n",
    "    student.update(new)\n",
    "    print(f\"Inside function {student}\")\n",
    "    return\n",
    "\n",
    "tp(student)\n",
    "print(f\"Outside function {student}\")"
   ]
  },
  {
   "cell_type": "code",
   "execution_count": 83,
   "metadata": {},
   "outputs": [
    {
     "name": "stdout",
     "output_type": "stream",
     "text": [
      "Inside function {'sam': 25, 'aish': 19}\n"
     ]
    }
   ],
   "source": [
    "str = {}\n",
    "tp(str)"
   ]
  },
  {
   "cell_type": "code",
   "execution_count": 84,
   "metadata": {},
   "outputs": [
    {
     "name": "stdout",
     "output_type": "stream",
     "text": [
      "Inside function parth the great\n",
      "Outside fnction parth sharma\n"
     ]
    }
   ],
   "source": [
    "# pass by value\n",
    "\n",
    "def test(st):\n",
    "    st = \"parth the great\"\n",
    "    print(f\"Inside function {st}\")\n",
    "    \n",
    "strr = \"parth sharma\"\n",
    "\n",
    "test(strr)\n",
    "print(f\"Outside fnction {strr}\")\n"
   ]
  },
  {
   "cell_type": "code",
   "execution_count": 85,
   "metadata": {},
   "outputs": [],
   "source": [
    "# example of inheritance\n",
    "\n",
    "class details:                                           # parent class / base class\n",
    "    def __init__(self, title, price):\n",
    "        self.title = title\n",
    "        self.price = price\n",
    "        \n",
    "class book(details):                                     # child class  \n",
    "    def __init__(self, title, author, price, pages):\n",
    "        super().__init__(title, price)\n",
    "        self.author = author\n",
    "        self.pages = pages\n",
    "        \n",
    "    def __str__(self):\n",
    "        return (f\"title :- {self.title} | author :- {self.author} | price :- {self.price} | pages :- {self.pages}\")"
   ]
  },
  {
   "cell_type": "code",
   "execution_count": 86,
   "metadata": {},
   "outputs": [
    {
     "name": "stdout",
     "output_type": "stream",
     "text": [
      "title :- ikigai | author :- hector garcia | price :- 200 | pages :- 400\n"
     ]
    }
   ],
   "source": [
    "content = book(\"ikigai\", \"hector garcia\", 200, 400)\n",
    "print(content)"
   ]
  },
  {
   "cell_type": "code",
   "execution_count": 1,
   "metadata": {},
   "outputs": [],
   "source": [
    "# example of abstract classes \n",
    "# ex. 01 \n",
    "\n",
    "#abstract base class work\n",
    "from abc import ABC, abstractmethod\n",
    "\n",
    "class polygon(ABC):\n",
    "    @abstractmethod\n",
    "    def noofsides(self):\n",
    "        pass\n",
    "    \n",
    "class triangle(polygon):\n",
    "        \n",
    "        #overriding abstract method\n",
    "        def noofsides(self):\n",
    "            print(\"I have 3 sides\")\n",
    "            \n",
    "class square(polygon):\n",
    "        \n",
    "        #overriding abstract method\n",
    "        def noofsides(self):\n",
    "            print(\"I have 4 sides\")"
   ]
  },
  {
   "cell_type": "code",
   "execution_count": 2,
   "metadata": {},
   "outputs": [
    {
     "name": "stdout",
     "output_type": "stream",
     "text": [
      "I have 3 sides\n",
      "I have 4 sides\n"
     ]
    }
   ],
   "source": [
    "#driver code\n",
    "\n",
    "R = triangle()\n",
    "R.noofsides()\n",
    "\n",
    "k = square()\n",
    "k.noofsides()"
   ]
  },
  {
   "cell_type": "code",
   "execution_count": 87,
   "metadata": {},
   "outputs": [],
   "source": [
    "#ex. 02\n",
    "\n",
    "from abc import ABC, abstractmethod\n",
    "\n",
    "class publication(ABC):\n",
    "    def __init__(self, title, author):\n",
    "        self.title = title\n",
    "        self.author = author\n",
    "        \n",
    "    @abstractmethod\n",
    "    def display(self):\n",
    "        pass\n",
    "    \n",
    "    #concrete method\n",
    "    def get_description(self):\n",
    "        return (f\"Title : {self.title}\\nAuthor : {self.author}\\n\")\n",
    "    \n",
    "class book(publication):\n",
    "    def __init__(self, title, author, ISBN):\n",
    "        super().__init__(title, author)\n",
    "        self.ISBN = ISBN\n",
    "        \n",
    "    def display(self):\n",
    "        desc = self.get_description()\n",
    "        print(f\"{desc}ISBN : {self.ISBN}\")\n",
    "        "
   ]
  },
  {
   "cell_type": "code",
   "execution_count": 88,
   "metadata": {},
   "outputs": [
    {
     "name": "stdout",
     "output_type": "stream",
     "text": [
      "Title : Ikigai\n",
      "Author : Hector Garcia\n",
      "ISBN : 245-4845-97\n"
     ]
    }
   ],
   "source": [
    "#driver code\n",
    "\n",
    "Book = book(\"Ikigai\", \"Hector Garcia\", \"245-4845-97\")\n",
    "Book.display()"
   ]
  },
  {
   "cell_type": "code",
   "execution_count": 89,
   "metadata": {},
   "outputs": [],
   "source": [
    "# Example of Wrapper\n",
    "\n",
    "# ex. 01\n",
    "\n",
    "def positive_input(func):\n",
    "    def wrapper(x):\n",
    "        if x <= 0:\n",
    "            return ValueError(\"Input must be positive\")\n",
    "        return func(x)\n",
    "    return wrapper\n",
    "\n",
    "@positive_input\n",
    "def square(x):\n",
    "    return x**2"
   ]
  },
  {
   "cell_type": "code",
   "execution_count": 95,
   "metadata": {},
   "outputs": [
    {
     "data": {
      "text/plain": [
       "49"
      ]
     },
     "execution_count": 95,
     "metadata": {},
     "output_type": "execute_result"
    }
   ],
   "source": [
    "square(7)"
   ]
  },
  {
   "cell_type": "code",
   "execution_count": 23,
   "metadata": {},
   "outputs": [
    {
     "name": "stdout",
     "output_type": "stream",
     "text": [
      "The code structure looks like \n"
     ]
    }
   ],
   "source": [
    "#ex. 02\n",
    "\n",
    "print(\"The code structure looks like \")\n",
    "\n",
    "def authorize(user_type):\n",
    "    def decorater(func):\n",
    "        def wrapper(*args, **kwargs):\n",
    "            if user_type == \"admin\":\n",
    "                return func(*args, **kwargs)\n",
    "            else:\n",
    "                return(\"Your are not authorized, please call your admin\")\n",
    "        return wrapper\n",
    "    return decorater\n",
    "\n",
    "@authorize(\"intern\")\n",
    "def delete_file(file_name):\n",
    "    return(f\"file {file_name} deleted succesfully\")"
   ]
  },
  {
   "cell_type": "code",
   "execution_count": 24,
   "metadata": {},
   "outputs": [
    {
     "name": "stdout",
     "output_type": "stream",
     "text": [
      "Your are not authorized, please call your admin\n"
     ]
    }
   ],
   "source": [
    "#driver code\n",
    "admin_person = delete_file(\"balance_sheet.txt\")\n",
    "print(admin_person)"
   ]
  },
  {
   "cell_type": "code",
   "execution_count": 15,
   "metadata": {},
   "outputs": [],
   "source": [
    "# example of decorator\n",
    "\n",
    "def greet(func):\n",
    "    def mini_func():\n",
    "        print(\"Good Morning\")\n",
    "        func()\n",
    "        print(\"Thanks for using this function\")\n",
    "    return mini_func\n",
    "\n",
    "@greet\n",
    "def hello():\n",
    "    print(\"Hello World\")"
   ]
  },
  {
   "cell_type": "code",
   "execution_count": 16,
   "metadata": {},
   "outputs": [
    {
     "name": "stdout",
     "output_type": "stream",
     "text": [
      "Good Morning\n",
      "Hello World\n",
      "Thanks for using this function\n"
     ]
    }
   ],
   "source": [
    "hello()"
   ]
  },
  {
   "cell_type": "code",
   "execution_count": null,
   "metadata": {},
   "outputs": [],
   "source": [
    "# example of encapsulation\n",
    "\n",
    "class BankAccount:\n",
    "    def __init__(self, account_number, balance):\n",
    "        self.__account_number = account_number  #private variables/attributes\n",
    "        self.__balance = balance       #private variables/attributes\n",
    "        \n",
    "    # getter method to access private attributes\n",
    "    # \"get\" is compulsary in method name \n",
    "    \n",
    "    def get_account_number(self):\n",
    "        return self.__account_number\n",
    "    \n",
    "    def get_balance(self):\n",
    "        return self.__balance\n",
    "    \n",
    "    #setter method\n",
    "    \n",
    "    def deposit(self, amount):\n",
    "        if amount > 0:\n",
    "            self.__balance += amount\n",
    "            \n",
    "    def withdraw(self, amount):\n",
    "        if amount > 0 and amount <= self.__balance:\n",
    "            self.__balance -= amount\n",
    "        else:\n",
    "            print(\"Insufficient balance\")"
   ]
  },
  {
   "cell_type": "code",
   "execution_count": null,
   "metadata": {},
   "outputs": [],
   "source": [
    "#driver code\n",
    "\n",
    "account = BankAccount(\"2323432\", 1000)\n",
    "account.get_account_number()"
   ]
  },
  {
   "cell_type": "code",
   "execution_count": null,
   "metadata": {},
   "outputs": [],
   "source": [
    "account.get_balance()"
   ]
  },
  {
   "cell_type": "code",
   "execution_count": null,
   "metadata": {},
   "outputs": [],
   "source": [
    "# accessing using name mangling\n",
    "\n",
    "account._BankAccount__account_number"
   ]
  },
  {
   "cell_type": "code",
   "execution_count": null,
   "metadata": {},
   "outputs": [],
   "source": [
    "account._BankAccount__balance"
   ]
  },
  {
   "cell_type": "code",
   "execution_count": null,
   "metadata": {},
   "outputs": [],
   "source": [
    "# updating/manipulating using name mangling\n",
    "\n",
    "account._BankAccount__account_number = 98987676\n",
    "account._BankAccount__account_number"
   ]
  },
  {
   "cell_type": "code",
   "execution_count": null,
   "metadata": {},
   "outputs": [],
   "source": [
    "account._BankAccount__balance = 100000\n",
    "account._BankAccount__balance"
   ]
  },
  {
   "cell_type": "code",
   "execution_count": null,
   "metadata": {},
   "outputs": [],
   "source": [
    "# example of polymorphism\n",
    "\n",
    "PI = 3.14159265\n",
    "\n",
    "class shape:\n",
    "    def area(self):\n",
    "        pass\n",
    "    \n",
    "class circle(shape):\n",
    "    def __init__(self, radius):\n",
    "        self.radius = radius\n",
    "        \n",
    "    def area(self):\n",
    "        return (PI * self.radius * self.radius)\n",
    "    \n",
    "class triangle(shape):\n",
    "    def __init__(self, base, height):\n",
    "        self.base = base\n",
    "        self.height = height\n",
    "        \n",
    "    def area(self):\n",
    "        return (0.5 * self.base * self.height)\n",
    "    \n",
    "class square(shape):\n",
    "    def __init__(self, sides):\n",
    "        self.sides = sides\n",
    "        \n",
    "    def area(self):\n",
    "        return (self.sides * self.sides)"
   ]
  },
  {
   "cell_type": "code",
   "execution_count": null,
   "metadata": {},
   "outputs": [],
   "source": [
    "#assigning to instance\n",
    "\n",
    "c = circle(5)\n",
    "t = triangle(4, 5)\n",
    "s = square(6)"
   ]
  },
  {
   "cell_type": "code",
   "execution_count": null,
   "metadata": {},
   "outputs": [],
   "source": [
    "#driver code\n",
    "\n",
    "shapes = [c, t, s]\n",
    "\n",
    "for shape in shapes:\n",
    "    print(f\"Area : {shape.area()}\")"
   ]
  },
  {
   "cell_type": "markdown",
   "metadata": {},
   "source": [
    "### Oops handson"
   ]
  },
  {
   "cell_type": "code",
   "execution_count": null,
   "metadata": {},
   "outputs": [],
   "source": [
    "#ex. 01\n",
    "\n",
    "def factor(n):\n",
    "    if n < 0:\n",
    "        print(\"factorial of negative number is not possible\")\n",
    "        \n",
    "    elif n == 0 or n == 1:\n",
    "        return 1\n",
    "    \n",
    "    else:\n",
    "        result = 1\n",
    "        for i in range(1, n + 1):\n",
    "            result = result * i\n",
    "        return result"
   ]
  },
  {
   "cell_type": "code",
   "execution_count": null,
   "metadata": {},
   "outputs": [],
   "source": [
    "#driver code\n",
    "factor(5)"
   ]
  },
  {
   "cell_type": "code",
   "execution_count": null,
   "metadata": {},
   "outputs": [],
   "source": [
    "#ex. 02\n",
    "\n",
    "def check_string(input_string):\n",
    "    flag = False\n",
    "    \n",
    "    for char in input_string:\n",
    "        if char == \"s\" or char == \"S\":\n",
    "            flag = True\n",
    "            break\n",
    "    if flag:\n",
    "        print(\"Given string contain s\")\n",
    "    else:\n",
    "        print(\"Given string doesn't contain s\")"
   ]
  },
  {
   "cell_type": "code",
   "execution_count": null,
   "metadata": {},
   "outputs": [],
   "source": [
    "user_input = input(\"Enter your string to be checked :- \")\n",
    "check_string(user_input)"
   ]
  },
  {
   "cell_type": "code",
   "execution_count": null,
   "metadata": {},
   "outputs": [],
   "source": [
    "#ex. 03\n",
    "\n",
    "def is_palindrome(input_string):\n",
    "    #string cleaning\n",
    "    cleaned_string = input_string.replace(\" \",\"\").lower()\n",
    "    return cleaned_string == cleaned_string[::-1]"
   ]
  },
  {
   "cell_type": "code",
   "execution_count": null,
   "metadata": {},
   "outputs": [],
   "source": [
    "#driver code\n",
    "\n",
    "user_input = input(\"Enter your string :- \")\n",
    "\n",
    "if is_palindrome(user_input):\n",
    "    print(\"Given string is palindrome\")\n",
    "else:\n",
    "    print(\"Given string is not palindrome\")"
   ]
  },
  {
   "cell_type": "code",
   "execution_count": null,
   "metadata": {},
   "outputs": [],
   "source": [
    "#ex.04\n",
    "\n",
    "def sums(*args):\n",
    "    total = 0\n",
    "    for num in args:\n",
    "        total += num\n",
    "    return total"
   ]
  },
  {
   "cell_type": "code",
   "execution_count": null,
   "metadata": {},
   "outputs": [],
   "source": [
    "#driver code\n",
    "sums(1,2,3,4,5,6,7)"
   ]
  },
  {
   "cell_type": "code",
   "execution_count": null,
   "metadata": {},
   "outputs": [],
   "source": [
    "#ex. 05\n",
    "\n",
    "class encapsulation:\n",
    "    def __init__(self):\n",
    "        self.originalValue = 10\n",
    "        \n",
    "    def Value(self):\n",
    "        return self.originalValue\n",
    "    \n",
    "    def setValue(self, newValue):\n",
    "        self.originalValue = newValue"
   ]
  },
  {
   "cell_type": "code",
   "execution_count": null,
   "metadata": {},
   "outputs": [],
   "source": [
    "#driver code\n",
    "\n",
    "encapsulation_instance = encapsulation()\n",
    "encapsulation_instance.Value()"
   ]
  },
  {
   "cell_type": "code",
   "execution_count": null,
   "metadata": {},
   "outputs": [],
   "source": [
    "encapsulation_instance.setValue(20)\n",
    "encapsulation_instance.Value()"
   ]
  },
  {
   "cell_type": "code",
   "execution_count": 1,
   "metadata": {},
   "outputs": [],
   "source": [
    "# example of iterators\n",
    "#1\n",
    "\n",
    "class counter:\n",
    "    def __init__(self, limit):\n",
    "        self.limit = limit\n",
    "        \n",
    "    def __iter__(self):\n",
    "        self.value = 0\n",
    "        return self\n",
    "    \n",
    "    def __next__(self):\n",
    "        if self.value < self.limit:\n",
    "            result = self.value\n",
    "            self.value += 1\n",
    "            return result\n",
    "        else:\n",
    "            raise StopIteration\n",
    "        "
   ]
  },
  {
   "cell_type": "code",
   "execution_count": 2,
   "metadata": {},
   "outputs": [
    {
     "name": "stdout",
     "output_type": "stream",
     "text": [
      "0\n",
      "1\n",
      "2\n",
      "3\n",
      "4\n",
      "5\n",
      "6\n",
      "7\n",
      "8\n",
      "9\n",
      "10\n"
     ]
    }
   ],
   "source": [
    "# driver code\n",
    "\n",
    "counter_instance = counter(11)\n",
    "\n",
    "for num in counter_instance:\n",
    "    print(num)"
   ]
  },
  {
   "cell_type": "code",
   "execution_count": 5,
   "metadata": {},
   "outputs": [],
   "source": [
    "#2\n",
    "\n",
    "list = [\"parth\", \"kanupriya\", \"lavanya\"]\n",
    "\n",
    "my_list = iter(list)"
   ]
  },
  {
   "cell_type": "code",
   "execution_count": 6,
   "metadata": {},
   "outputs": [
    {
     "name": "stdout",
     "output_type": "stream",
     "text": [
      "parth\n"
     ]
    }
   ],
   "source": [
    "print(next(my_list))"
   ]
  },
  {
   "cell_type": "code",
   "execution_count": 7,
   "metadata": {},
   "outputs": [
    {
     "name": "stdout",
     "output_type": "stream",
     "text": [
      "kanupriya\n"
     ]
    }
   ],
   "source": [
    "print(next(my_list))"
   ]
  },
  {
   "cell_type": "code",
   "execution_count": 8,
   "metadata": {},
   "outputs": [
    {
     "name": "stdout",
     "output_type": "stream",
     "text": [
      "lavanya\n"
     ]
    }
   ],
   "source": [
    "print(next(my_list))"
   ]
  },
  {
   "cell_type": "code",
   "execution_count": 1,
   "metadata": {},
   "outputs": [],
   "source": [
    "# Generators in python (yeild keyword)\n",
    "\n",
    "def my_gen():\n",
    "    yield 1\n",
    "    yield 2\n",
    "    yield 3\n",
    "\n",
    "gen = my_gen()"
   ]
  },
  {
   "cell_type": "code",
   "execution_count": 2,
   "metadata": {},
   "outputs": [
    {
     "name": "stdout",
     "output_type": "stream",
     "text": [
      "1\n"
     ]
    }
   ],
   "source": [
    "#driver's code\n",
    "print(next(gen))"
   ]
  },
  {
   "cell_type": "code",
   "execution_count": 3,
   "metadata": {},
   "outputs": [
    {
     "name": "stdout",
     "output_type": "stream",
     "text": [
      "2\n"
     ]
    }
   ],
   "source": [
    "print(next(gen))"
   ]
  },
  {
   "cell_type": "code",
   "execution_count": 4,
   "metadata": {},
   "outputs": [
    {
     "name": "stdout",
     "output_type": "stream",
     "text": [
      "3\n"
     ]
    }
   ],
   "source": [
    "print(next(gen))"
   ]
  },
  {
   "cell_type": "code",
   "execution_count": 22,
   "metadata": {},
   "outputs": [],
   "source": [
    "# Attributes vs Properties\n",
    "#1\n",
    "\n",
    "class Student:\n",
    "    def __init__(self, name, age):\n",
    "        self.name = name\n",
    "        self.__age = age\n",
    "\n",
    "    @property\n",
    "    def age(self):\n",
    "        return self.__age\n",
    "    \n",
    "    @age.setter\n",
    "    def age(self, value):\n",
    "        if value <= 0:\n",
    "            print(\"Given value should be positive\")\n",
    "        else:\n",
    "            self.__age = value\n"
   ]
  },
  {
   "cell_type": "code",
   "execution_count": 23,
   "metadata": {},
   "outputs": [],
   "source": [
    "#creating instance\n",
    "Student_instance = Student(\"vinit\", 21)"
   ]
  },
  {
   "cell_type": "code",
   "execution_count": 24,
   "metadata": {},
   "outputs": [
    {
     "name": "stdout",
     "output_type": "stream",
     "text": [
      "vinit\n",
      "21\n"
     ]
    }
   ],
   "source": [
    "print(Student_instance.name)\n",
    "print(Student_instance.age)"
   ]
  },
  {
   "cell_type": "code",
   "execution_count": 25,
   "metadata": {},
   "outputs": [],
   "source": [
    "# modify\n",
    "Student_instance.name = \"ritik\"\n",
    "Student_instance.age = 24"
   ]
  },
  {
   "cell_type": "code",
   "execution_count": 26,
   "metadata": {},
   "outputs": [
    {
     "name": "stdout",
     "output_type": "stream",
     "text": [
      "ritik\n",
      "24\n"
     ]
    }
   ],
   "source": [
    "print(Student_instance.name)\n",
    "print(Student_instance.age)"
   ]
  },
  {
   "cell_type": "code",
   "execution_count": 28,
   "metadata": {},
   "outputs": [],
   "source": [
    "#2\n",
    "\n",
    "class Temperature:\n",
    "    def __init__(self, celsius):\n",
    "        self.__celsius = celsius\n",
    "\n",
    "    @property\n",
    "    def celsius(self):\n",
    "        return self.__celsius\n",
    "    \n",
    "    @property\n",
    "    def fahrenheit(self):\n",
    "        return (self.__celsius * 9/5) + 32\n",
    "    \n",
    "    @celsius.setter\n",
    "    def celsius(self, value):\n",
    "        if value < -273.15:\n",
    "            raise ValueError (\"Absolute zero is -273.15, cannot go lower\")\n",
    "        else:\n",
    "            self.__celsius = value"
   ]
  },
  {
   "cell_type": "code",
   "execution_count": 30,
   "metadata": {},
   "outputs": [],
   "source": [
    "#creating instance\n",
    "Temperature_instance = Temperature(45)"
   ]
  },
  {
   "cell_type": "code",
   "execution_count": 33,
   "metadata": {},
   "outputs": [
    {
     "name": "stdout",
     "output_type": "stream",
     "text": [
      "45\n",
      "113.0\n"
     ]
    }
   ],
   "source": [
    "#driver's code\n",
    "print(Temperature_instance.celsius)\n",
    "print(Temperature_instance.fahrenheit)"
   ]
  },
  {
   "cell_type": "code",
   "execution_count": 34,
   "metadata": {},
   "outputs": [],
   "source": [
    "Temperature_instance.celsius = 55"
   ]
  },
  {
   "cell_type": "code",
   "execution_count": 35,
   "metadata": {},
   "outputs": [
    {
     "name": "stdout",
     "output_type": "stream",
     "text": [
      "55\n",
      "131.0\n"
     ]
    }
   ],
   "source": [
    "print(Temperature_instance.celsius)\n",
    "print(Temperature_instance.fahrenheit)"
   ]
  },
  {
   "cell_type": "code",
   "execution_count": 45,
   "metadata": {},
   "outputs": [],
   "source": [
    "# Method Overloading\n",
    "\n",
    "class BankAccount:\n",
    "    def __init__(self, account_number, balance = 0.0):\n",
    "        self.account_number = account_number\n",
    "        self.balance = balance\n",
    "\n",
    "    def deposit(self, amount):\n",
    "        if amount < 0:\n",
    "            raise ValueError(\"Amount cannot be zero\")\n",
    "        else:\n",
    "            self.balance += amount\n",
    "\n",
    "    def deposit(self, *amounts):\n",
    "        for amount in amounts:\n",
    "            if amount < 0:\n",
    "                continue\n",
    "            else:\n",
    "                self.balance += amount\n",
    "\n",
    "    def get_balance(self):\n",
    "        return self.balance"
   ]
  },
  {
   "cell_type": "code",
   "execution_count": 46,
   "metadata": {},
   "outputs": [],
   "source": [
    "#creating instance\n",
    "account_instance = BankAccount(\"12345\", 100)"
   ]
  },
  {
   "cell_type": "code",
   "execution_count": 47,
   "metadata": {},
   "outputs": [],
   "source": [
    "#modify\n",
    "account_instance.deposit(50)\n",
    "\n",
    "# note :- Here first deposit method is being called having 'amount' as input"
   ]
  },
  {
   "cell_type": "code",
   "execution_count": 48,
   "metadata": {},
   "outputs": [
    {
     "name": "stdout",
     "output_type": "stream",
     "text": [
      "150\n"
     ]
    }
   ],
   "source": [
    "print(account_instance.get_balance())"
   ]
  },
  {
   "cell_type": "code",
   "execution_count": 49,
   "metadata": {},
   "outputs": [],
   "source": [
    "#modify\n",
    "account_instance.deposit(50, 20, 100)\n",
    "\n",
    "# note :- Here second deposit method is being called having '*amount' as input"
   ]
  },
  {
   "cell_type": "code",
   "execution_count": 50,
   "metadata": {},
   "outputs": [
    {
     "name": "stdout",
     "output_type": "stream",
     "text": [
      "320\n"
     ]
    }
   ],
   "source": [
    "print(account_instance.get_balance())"
   ]
  },
  {
   "cell_type": "code",
   "execution_count": 52,
   "metadata": {},
   "outputs": [],
   "source": [
    "# Method Overriding\n",
    "\n",
    "class shape:\n",
    "    def area(self):\n",
    "        pass\n",
    "\n",
    "class rectangle(shape):\n",
    "    def __init__(self, length, width):\n",
    "        self.length = length\n",
    "        self.width = width\n",
    "\n",
    "    def area(self):\n",
    "        return self.length * self.width"
   ]
  },
  {
   "cell_type": "code",
   "execution_count": 53,
   "metadata": {},
   "outputs": [],
   "source": [
    "#creating instance\n",
    "rectangle_instance = rectangle(50, 40)"
   ]
  },
  {
   "cell_type": "code",
   "execution_count": 55,
   "metadata": {},
   "outputs": [
    {
     "data": {
      "text/plain": [
       "2000"
      ]
     },
     "execution_count": 55,
     "metadata": {},
     "output_type": "execute_result"
    }
   ],
   "source": [
    "#accessing properties\n",
    "rectangle_instance.area()"
   ]
  },
  {
   "cell_type": "code",
   "execution_count": 2,
   "metadata": {},
   "outputs": [
    {
     "name": "stdout",
     "output_type": "stream",
     "text": [
      "Vrinda 27\n",
      "Vinit 27\n"
     ]
    }
   ],
   "source": [
    "#class methods and static methods\n",
    "\n",
    "class Info:\n",
    "    def __init__(self,name,age):\n",
    "        self.age=age\n",
    "        self.name=name\n",
    "#instance methods\n",
    "    def printv(self): \n",
    "        print(self.name,self.age)\n",
    "\n",
    "obj1=Info('Vrinda',27)\n",
    "obj1.printv()\n",
    "\n",
    "obj2=Info('Vinit',27)\n",
    "obj2.printv()"
   ]
  },
  {
   "cell_type": "code",
   "execution_count": 8,
   "metadata": {},
   "outputs": [
    {
     "name": "stdout",
     "output_type": "stream",
     "text": [
      "8\n"
     ]
    }
   ],
   "source": [
    "#static methods: methods with no access to instance varaibles\n",
    "class Info:\n",
    "    def __init__(self,name,age):\n",
    "        self.age=age\n",
    "        self.name=name\n",
    "#static methods\n",
    "    @staticmethod\n",
    "    def printv(x,y): \n",
    "        print(x+y)\n",
    "\n",
    "obj1=Info('Vrinda',27)\n",
    "obj1.printv(2,6)"
   ]
  },
  {
   "cell_type": "code",
   "execution_count": 11,
   "metadata": {},
   "outputs": [
    {
     "name": "stdout",
     "output_type": "stream",
     "text": [
      "Vrinda\n",
      "21\n",
      "Vrinda\n",
      "30\n"
     ]
    }
   ],
   "source": [
    "# class methods\n",
    "\n",
    "class Info:\n",
    "    def __init__(self,name,age):\n",
    "        self.age=age\n",
    "        self.name=name\n",
    "#class methods\n",
    "    @classmethod\n",
    "    def printv(cls,x,y): \n",
    "        return cls(x,y+9)\n",
    "\n",
    "obj1=Info('Vrinda',21)\n",
    "print(obj1.name)\n",
    "print(obj1.age)\n",
    "\n",
    "obj2=Info.printv('Vrinda',21)\n",
    "print(obj2.name)\n",
    "print(obj2.age)"
   ]
  },
  {
   "cell_type": "markdown",
   "metadata": {},
   "source": [
    "END"
   ]
  },
  {
   "cell_type": "markdown",
   "metadata": {},
   "source": [
    "---"
   ]
  }
 ],
 "metadata": {
  "kernelspec": {
   "display_name": "Python 3",
   "language": "python",
   "name": "python3"
  },
  "language_info": {
   "codemirror_mode": {
    "name": "ipython",
    "version": 3
   },
   "file_extension": ".py",
   "mimetype": "text/x-python",
   "name": "python",
   "nbconvert_exporter": "python",
   "pygments_lexer": "ipython3",
   "version": "3.12.1"
  },
  "orig_nbformat": 4
 },
 "nbformat": 4,
 "nbformat_minor": 2
}
