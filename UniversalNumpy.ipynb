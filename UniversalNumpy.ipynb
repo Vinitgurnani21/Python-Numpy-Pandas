{
 "cells": [
  {
   "cell_type": "markdown",
   "metadata": {},
   "source": [
    "# **Welcome to numpy**"
   ]
  },
  {
   "cell_type": "code",
   "execution_count": 1,
   "metadata": {},
   "outputs": [],
   "source": [
    "# Import the required libraries\n",
    "import numpy as np\n",
    "import time"
   ]
  },
  {
   "cell_type": "code",
   "execution_count": null,
   "metadata": {},
   "outputs": [],
   "source": [
    "# Example of how much numpy is faster than list\n",
    "\n",
    "def using_list():\n",
    "    stp = time.time()\n",
    "    x = range(10000)\n",
    "    y = range(10000)\n",
    "    result = [x[i] + y[i] for i in range(len(x))]\n",
    "    edp = time.time()\n",
    "    return edp - stp\n",
    "\n",
    "def using_numpy():\n",
    "    stn = time.time()\n",
    "    a = np.arange(10000)\n",
    "    b = np.arange(10000)\n",
    "    result = a + b          # broadcasting\n",
    "    edn = time.time()\n",
    "    return edn - stn"
   ]
  },
  {
   "cell_type": "code",
   "execution_count": null,
   "metadata": {},
   "outputs": [
    {
     "name": "stdout",
     "output_type": "stream",
     "text": [
      "Time taken for python list :- 0.0033 seconds\n",
      "Time taken for numpy arry :- 0.0000 seconds\n"
     ]
    }
   ],
   "source": [
    "#driver's code\n",
    "\n",
    "list_time = using_list()\n",
    "numpy_time = using_numpy()\n",
    "\n",
    "print(f\"Time taken for python list :- {list_time:.4f} seconds\")\n",
    "print(f\"Time taken for numpy array :- {numpy_time:.4f} seconds\")\n",
    "\n",
    "# note :- \".nf\" is number of digits after decimal. here is '.4f'"
   ]
  },
  {
   "cell_type": "code",
   "execution_count": null,
   "metadata": {},
   "outputs": [
    {
     "data": {
      "text/plain": [
       "array([1, 2, 3])"
      ]
     },
     "execution_count": 55,
     "metadata": {},
     "output_type": "execute_result"
    }
   ],
   "source": [
    "# Initialize with integer values themselves\n",
    "np.array((1, 2, 3))         #((elements))"
   ]
  },
  {
   "cell_type": "code",
   "execution_count": null,
   "metadata": {},
   "outputs": [
    {
     "data": {
      "text/plain": [
       "array([[0., 0., 0., 0.],\n",
       "       [0., 0., 0., 0.],\n",
       "       [0., 0., 0., 0.]])"
      ]
     },
     "execution_count": 56,
     "metadata": {},
     "output_type": "execute_result"
    }
   ],
   "source": [
    "# Initialize with all zero values (by default :- float format)\n",
    "np.zeros((3, 4))            #((rows, columns))"
   ]
  },
  {
   "cell_type": "code",
   "execution_count": null,
   "metadata": {},
   "outputs": [
    {
     "data": {
      "text/plain": [
       "array([[5, 5, 5, 5],\n",
       "       [5, 5, 5, 5],\n",
       "       [5, 5, 5, 5]])"
      ]
     },
     "execution_count": 57,
     "metadata": {},
     "output_type": "execute_result"
    }
   ],
   "source": [
    "# Initialize with number you want (given format)\n",
    "np.full((3, 4), 5)          #((rows, columns), element)"
   ]
  },
  {
   "cell_type": "code",
   "execution_count": null,
   "metadata": {},
   "outputs": [
    {
     "data": {
      "text/plain": [
       "array([[0.68723636, 0.73649898, 0.58753592],\n",
       "       [0.60958885, 0.1536155 , 0.58285142]])"
      ]
     },
     "execution_count": 58,
     "metadata": {},
     "output_type": "execute_result"
    }
   ],
   "source": [
    "# Initialize with random values\n",
    "np.random.random((2, 3))        #((rows, columns))"
   ]
  },
  {
   "cell_type": "code",
   "execution_count": null,
   "metadata": {},
   "outputs": [
    {
     "data": {
      "text/plain": [
       "array([1, 2, 3, 4, 5, 6])"
      ]
     },
     "execution_count": 59,
     "metadata": {},
     "output_type": "execute_result"
    }
   ],
   "source": [
    "# Convert 2d array to 1d array\n",
    "arr = np.array([[1, 2, 3], [4, 5, 6]])\n",
    "arr.ravel()"
   ]
  },
  {
   "cell_type": "code",
   "execution_count": null,
   "metadata": {},
   "outputs": [
    {
     "data": {
      "text/plain": [
       "array([[1, 2, 3],\n",
       "       [4, 5, 6]])"
      ]
     },
     "execution_count": 60,
     "metadata": {},
     "output_type": "execute_result"
    }
   ],
   "source": [
    "# Convert 1d array to 2d array\n",
    "arr = np.array([1, 2, 3, 4, 5, 6])\n",
    "arr.reshape(2, 3)       # reshape(rows_to_split, columns_to_split)"
   ]
  },
  {
   "cell_type": "code",
   "execution_count": null,
   "metadata": {},
   "outputs": [
    {
     "data": {
      "text/plain": [
       "array([[[ 0,  1,  2],\n",
       "        [ 3,  4,  5],\n",
       "        [ 6,  7,  8],\n",
       "        [ 9, 10, 11]],\n",
       "\n",
       "       [[12, 13, 14],\n",
       "        [15, 16, 17],\n",
       "        [18, 19, 20],\n",
       "        [21, 22, 23]]])"
      ]
     },
     "execution_count": 74,
     "metadata": {},
     "output_type": "execute_result"
    }
   ],
   "source": [
    "# Convert 1d array to 3d array\n",
    "arr = np.arange(24)\n",
    "\n",
    "arr2 = arr.reshape(2, 4, 3)\n",
    "arr2\n",
    "\n",
    "# note :- here '2' is number of sub arrays in array\n",
    "#              '4' is number of rows in particular sub arrays\n",
    "#              '3' is number of columns in particular sub arrays"
   ]
  },
  {
   "cell_type": "code",
   "execution_count": null,
   "metadata": {},
   "outputs": [
    {
     "name": "stdout",
     "output_type": "stream",
     "text": [
      "Size before :- (4, 3)\n",
      "Size after :- (3, 4)\n"
     ]
    }
   ],
   "source": [
    "# Resize the array using '.shape' method\n",
    "arr = np.array([[1, 2, 3],\n",
    "                [4, 5, 6],\n",
    "                [7, 8, 9], \n",
    "                [10, 11, 12]])\n",
    "\n",
    "print(f\"Size before :- {arr.shape}\")\n",
    "arr.shape = (3, 4)          # arr.resize(3, 4) will works the same. \n",
    "print(f\"Size after :- {arr.shape}\")              "
   ]
  },
  {
   "cell_type": "code",
   "execution_count": null,
   "metadata": {},
   "outputs": [
    {
     "name": "stdout",
     "output_type": "stream",
     "text": [
      "Before sorting :- [2 4 7 3 1 9 8]\n",
      "\n",
      "After sorting :- [1 2 3 4 7 8 9]\n"
     ]
    }
   ],
   "source": [
    "# Create np array and sort\n",
    "arr = np.array([2, 4, 7, 3, 1, 9, 8])\n",
    "\n",
    "print(f\"Before sorting :- {arr}\")\n",
    "print()\n",
    "print(f\"After sorting :- {np.sort(arr)}\")"
   ]
  },
  {
   "cell_type": "code",
   "execution_count": null,
   "metadata": {},
   "outputs": [
    {
     "name": "stdout",
     "output_type": "stream",
     "text": [
      "size of an array :- 9\n"
     ]
    }
   ],
   "source": [
    "# Identify total number of an elements in an array\n",
    "arr = np.array([[1, 2, 3], \n",
    "                [4, 5, 6],\n",
    "                [7, 8, 9]])\n",
    "\n",
    "print(f\"size of an array :- {arr.size}\")"
   ]
  },
  {
   "cell_type": "code",
   "execution_count": null,
   "metadata": {},
   "outputs": [
    {
     "name": "stdout",
     "output_type": "stream",
     "text": [
      "shape of an array :- (3, 3)\n"
     ]
    }
   ],
   "source": [
    "# Identify shape (rows * columns) of an array\n",
    "arr = np.array([[1, 2, 3], \n",
    "                [4, 5, 6],\n",
    "                [7, 8, 9]])\n",
    "\n",
    "print(f\"shape of an array :- {arr.shape}\")"
   ]
  },
  {
   "cell_type": "code",
   "execution_count": null,
   "metadata": {},
   "outputs": [
    {
     "name": "stdout",
     "output_type": "stream",
     "text": [
      "dimension of an array :- 2\n"
     ]
    }
   ],
   "source": [
    "# Identify dimension of an array\n",
    "arr = np.array([[1, 2, 3], \n",
    "                [4, 5, 6],\n",
    "                [7, 8, 9]])\n",
    "\n",
    "print(f\"dimension of an array :- {arr.ndim}\")"
   ]
  },
  {
   "cell_type": "code",
   "execution_count": null,
   "metadata": {},
   "outputs": [
    {
     "name": "stdout",
     "output_type": "stream",
     "text": [
      "Data type is float64\n"
     ]
    },
    {
     "data": {
      "text/plain": [
       "array([[[ 0.,  1.],\n",
       "        [ 2.,  3.],\n",
       "        [ 4.,  5.],\n",
       "        [ 6.,  7.]],\n",
       "\n",
       "       [[ 8.,  9.],\n",
       "        [10., 11.],\n",
       "        [12., 13.],\n",
       "        [14., 15.]],\n",
       "\n",
       "       [[16., 17.],\n",
       "        [18., 19.],\n",
       "        [20., 21.],\n",
       "        [22., 23.]]])"
      ]
     },
     "execution_count": 9,
     "metadata": {},
     "output_type": "execute_result"
    }
   ],
   "source": [
    "# Identify data type of an array\n",
    "arr = np.arange(24, dtype = float)\n",
    "\n",
    "print(f\"Data type is {arr.dtype}\")\n",
    "\n",
    "arr2 = arr.reshape(3, 4, 2)\n",
    "arr2"
   ]
  },
  {
   "cell_type": "code",
   "execution_count": null,
   "metadata": {},
   "outputs": [
    {
     "name": "stdout",
     "output_type": "stream",
     "text": [
      "Sum of elements in array :- 45\n"
     ]
    }
   ],
   "source": [
    "# Sum\n",
    "\n",
    "# create a sample array\n",
    "arr = np.array([[1, 2, 3], \n",
    "                [4, 5, 6], \n",
    "                [7, 8, 9]])\n",
    "\n",
    "total = np.sum(arr)\n",
    "print(f\"Sum of elements in array :- {total}\")"
   ]
  },
  {
   "cell_type": "code",
   "execution_count": null,
   "metadata": {},
   "outputs": [
    {
     "name": "stdout",
     "output_type": "stream",
     "text": [
      "[12 15 18]\n"
     ]
    }
   ],
   "source": [
    "# Sum with an axis, while axis = 0\n",
    "matrix = np.array([[1, 2, 3], \n",
    "                   [4, 5, 6], \n",
    "                   [7, 8, 9]])\n",
    "\n",
    "column_sum = np.sum(matrix, axis=0)     # return column wise sum\n",
    "print(column_sum)"
   ]
  },
  {
   "cell_type": "code",
   "execution_count": null,
   "metadata": {},
   "outputs": [
    {
     "name": "stdout",
     "output_type": "stream",
     "text": [
      "[ 6 15 24]\n"
     ]
    }
   ],
   "source": [
    "# Sum with an axis, while axis = 1\n",
    "matrix = np.array([[1, 2, 3], \n",
    "                   [4, 5, 6], \n",
    "                   [7, 8, 9]])\n",
    "\n",
    "row_sum = np.sum(matrix, axis=1)     # return row wise sum\n",
    "print(row_sum)"
   ]
  },
  {
   "cell_type": "code",
   "execution_count": null,
   "metadata": {},
   "outputs": [
    {
     "name": "stdout",
     "output_type": "stream",
     "text": [
      "12\n"
     ]
    }
   ],
   "source": [
    "# Partial sum\n",
    "matrix = np.array([[1, 2, 3], \n",
    "                   [4, 5, 6], \n",
    "                   [7, 8, 9]])\n",
    "partial_sum = np.sum(matrix [:2, :2])    # return the sum of elements comes in range\n",
    "print(partial_sum)                       # of (0-2 rows, 0-2columns)"
   ]
  },
  {
   "cell_type": "code",
   "execution_count": null,
   "metadata": {},
   "outputs": [
    {
     "name": "stdout",
     "output_type": "stream",
     "text": [
      "arr1-arr2 => [-2 -2 -2 -2]\n",
      "arr2-arr1 => [2 2 2 2]\n"
     ]
    }
   ],
   "source": [
    "# Subtraction\n",
    "\n",
    "# create a sample array\n",
    "arr1 = np.array([1, 2, 3, 4])\n",
    "arr2 = np.array([3, 4, 5, 6])\n",
    "\n",
    "result = np.subtract(arr1, arr2)\n",
    "print(f\"arr1-arr2 => {result}\")\n",
    "\n",
    "result = np.subtract(arr2, arr1)\n",
    "print(f\"arr2-arr1 => {result}\")"
   ]
  },
  {
   "cell_type": "code",
   "execution_count": null,
   "metadata": {},
   "outputs": [
    {
     "data": {
      "text/plain": [
       "array([0, 1, 2, 3])"
      ]
     },
     "execution_count": 71,
     "metadata": {},
     "output_type": "execute_result"
    }
   ],
   "source": [
    "# Subtraction with scalar\n",
    "arr = np.array([2, 3, 4, 5])\n",
    "scalar = 2\n",
    "\n",
    "result = np.subtract(arr, scalar)\n",
    "result      # scalar value is subtracted from each element of an array"
   ]
  },
  {
   "cell_type": "code",
   "execution_count": null,
   "metadata": {},
   "outputs": [
    {
     "data": {
      "text/plain": [
       "array([1, 2, 3, 5, 6])"
      ]
     },
     "execution_count": 56,
     "metadata": {},
     "output_type": "execute_result"
    }
   ],
   "source": [
    "# Concatenate\n",
    "arr1 = np.array([1, 2, 3])\n",
    "arr2 = np.array([5, 6])\n",
    "\n",
    "np.concatenate((arr1, arr2))"
   ]
  },
  {
   "cell_type": "code",
   "execution_count": null,
   "metadata": {},
   "outputs": [
    {
     "data": {
      "text/plain": [
       "array([ 4, 10, 18])"
      ]
     },
     "execution_count": 60,
     "metadata": {},
     "output_type": "execute_result"
    }
   ],
   "source": [
    "# Multiply\n",
    "a = np.array([1, 2, 3])\n",
    "b = np.array([4, 5, 6])\n",
    "\n",
    "np.multiply(a, b)"
   ]
  },
  {
   "cell_type": "code",
   "execution_count": null,
   "metadata": {},
   "outputs": [
    {
     "data": {
      "text/plain": [
       "array([5., 3., 2.])"
      ]
     },
     "execution_count": 62,
     "metadata": {},
     "output_type": "execute_result"
    }
   ],
   "source": [
    "# Divide\n",
    "arr1 = np.array([5, 12, 22])\n",
    "arr2 = np.array([1, 4, 11])\n",
    "\n",
    "np.divide(arr1, arr2)       # default :- float division"
   ]
  },
  {
   "cell_type": "code",
   "execution_count": null,
   "metadata": {},
   "outputs": [
    {
     "data": {
      "text/plain": [
       "array([  7.3890561 ,  54.59815003, 148.4131591 ])"
      ]
     },
     "execution_count": 65,
     "metadata": {},
     "output_type": "execute_result"
    }
   ],
   "source": [
    "# Exponentions\n",
    "arr = np.array([2, 4, 5])\n",
    "np.exp(arr)         # e^a  where eis euler's number(2.718)"
   ]
  },
  {
   "cell_type": "code",
   "execution_count": null,
   "metadata": {},
   "outputs": [
    {
     "data": {
      "text/plain": [
       "array([2.        , 2.82842712, 5.        , 6.08276253])"
      ]
     },
     "execution_count": 72,
     "metadata": {},
     "output_type": "execute_result"
    }
   ],
   "source": [
    "# SQRT\n",
    "arr = np.array([4, 8, 25, 37])\n",
    "np.sqrt(arr)\n",
    "\n",
    "# Note :- There are so many built in methods in Numpy, these are just some of them."
   ]
  },
  {
   "cell_type": "code",
   "execution_count": null,
   "metadata": {},
   "outputs": [
    {
     "data": {
      "text/plain": [
       "array([False, False, False])"
      ]
     },
     "execution_count": 67,
     "metadata": {},
     "output_type": "execute_result"
    }
   ],
   "source": [
    "# Comparision (np.equal)\n",
    "\n",
    "# 1 \n",
    "a = np.array([1, 2, 3])\n",
    "b = np.array([4, 5, 6])\n",
    "\n",
    "np.equal(a, b)      # np.equal used for element wise comparision"
   ]
  },
  {
   "cell_type": "code",
   "execution_count": 69,
   "metadata": {},
   "outputs": [
    {
     "data": {
      "text/plain": [
       "array([ True,  True,  True])"
      ]
     },
     "execution_count": 69,
     "metadata": {},
     "output_type": "execute_result"
    }
   ],
   "source": [
    "# 2\n",
    "a = np.array([1, 2, 3])\n",
    "b = np.array([1, 2, 3])\n",
    "\n",
    "np.equal(a, b)      # np.equal used for element wise comparision"
   ]
  },
  {
   "cell_type": "code",
   "execution_count": null,
   "metadata": {},
   "outputs": [
    {
     "data": {
      "text/plain": [
       "False"
      ]
     },
     "execution_count": 73,
     "metadata": {},
     "output_type": "execute_result"
    }
   ],
   "source": [
    "# Comparision (np.array_equal)\n",
    "a = np.array([1, 2, 3])\n",
    "b = np.array([4, 5, 6])\n",
    "\n",
    "np.array_equal(a, b)    # np.array_equal used for array wise comparision"
   ]
  },
  {
   "cell_type": "code",
   "execution_count": null,
   "metadata": {},
   "outputs": [
    {
     "name": "stdout",
     "output_type": "stream",
     "text": [
      "minimum value :- 20\n",
      "\n",
      "mean value :- 25.0\n",
      "\n",
      "median value :- 25.0\n",
      "\n",
      "standard deviation :- 4.08248290463863\n"
     ]
    }
   ],
   "source": [
    "# Aggregate functions\n",
    "coffee_ban = np.array([20, 25, 30])\n",
    "coffee_pune = np.array([15, 17, 20])\n",
    "coffee_delhi = np.array([11, 12, 13])\n",
    "\n",
    "print(f\"minimum value :- {np.min(coffee_ban)}\\n\")\n",
    "print(f\"mean value :- {np.mean(coffee_ban)}\\n\")\n",
    "print(f\"median value :- {np.median(coffee_ban)}\\n\")\n",
    "print(f\"standard deviation :- {np.std(coffee_ban)}\")\n",
    "\n",
    "# Note :- There are so many aggregate function like these, you can check on internet\n",
    "# and use based on you need.These are just some of them"
   ]
  },
  {
   "cell_type": "code",
   "execution_count": null,
   "metadata": {},
   "outputs": [
    {
     "data": {
      "text/plain": [
       "array([[ 6,  8],\n",
       "       [ 8, 10],\n",
       "       [10, 12]])"
      ]
     },
     "execution_count": 75,
     "metadata": {},
     "output_type": "execute_result"
    }
   ],
   "source": [
    "# Broadcasting *****\n",
    "a = np.array([[1, 2], \n",
    "              [3, 4], \n",
    "              [5, 6]])\n",
    "\n",
    "b = np.array([5, 6])\n",
    "\n",
    "result = a + b\n",
    "result\n",
    "\n",
    "# Note :- Dimension should be matched, otherwise it will throw \"value error\""
   ]
  },
  {
   "cell_type": "code",
   "execution_count": null,
   "metadata": {},
   "outputs": [
    {
     "data": {
      "text/plain": [
       "array([[1, 2],\n",
       "       [5, 6]])"
      ]
     },
     "execution_count": 79,
     "metadata": {},
     "output_type": "execute_result"
    }
   ],
   "source": [
    "# Slicing\n",
    "matrix = np.array([[1, 2, 3, 4], \n",
    "                  [5, 6, 7, 8], \n",
    "                  [9, 10, 11, 12]])\n",
    "\n",
    "submatrix = matrix[0:2, 0:2]\n",
    "submatrix\n",
    "\n",
    "# Note :- creating sub-arrays from original array known as slicing"
   ]
  },
  {
   "cell_type": "code",
   "execution_count": null,
   "metadata": {},
   "outputs": [
    {
     "data": {
      "text/plain": [
       "array([[1, 2],\n",
       "       [5, 6]])"
      ]
     },
     "execution_count": 80,
     "metadata": {},
     "output_type": "execute_result"
    }
   ],
   "source": [
    "# Indexing\n",
    "matrix = np.array([[1, 2, 3, 4], \n",
    "                   [5, 6, 7, 8], \n",
    "                   [9, 10, 11, 12]])\n",
    "\n",
    "matrix[0:2, 0:2]\n",
    "\n",
    "# Note :- Accessing array elements referring to its index number known as indexing"
   ]
  },
  {
   "cell_type": "code",
   "execution_count": null,
   "metadata": {},
   "outputs": [
    {
     "data": {
      "text/plain": [
       "array([1, 2, 4, 5])"
      ]
     },
     "execution_count": 81,
     "metadata": {},
     "output_type": "execute_result"
    }
   ],
   "source": [
    "# Delete\n",
    "arr = np.array([1, 2, 3, 4, 5])\n",
    "np.delete(arr, 2)                   # (array, index_of_element)"
   ]
  },
  {
   "cell_type": "code",
   "execution_count": null,
   "metadata": {},
   "outputs": [
    {
     "data": {
      "text/plain": [
       "array([1, 2, 3])"
      ]
     },
     "execution_count": 3,
     "metadata": {},
     "output_type": "execute_result"
    }
   ],
   "source": [
    "# Masking\n",
    "arr = np.array([1, 2, 3, 4, 5])\n",
    "\n",
    "mask = arr <= 3\n",
    "new_arr = arr[mask]\n",
    "new_arr"
   ]
  },
  {
   "cell_type": "code",
   "execution_count": null,
   "metadata": {},
   "outputs": [
    {
     "data": {
      "text/plain": [
       "array([[1, 2],\n",
       "       [3, 4],\n",
       "       [5, 6]])"
      ]
     },
     "execution_count": 85,
     "metadata": {},
     "output_type": "execute_result"
    }
   ],
   "source": [
    "# vstack (vertical stacking)\n",
    "arr1 = np.array([[1, 2], \n",
    "                 [3, 4]])\n",
    "\n",
    "arr2 = np.array([5, 6])\n",
    "\n",
    "result = np.vstack((arr1, arr2))\n",
    "result\n",
    "\n",
    "# In vertical stacking, column wise dimension should be matched."
   ]
  },
  {
   "cell_type": "code",
   "execution_count": null,
   "metadata": {},
   "outputs": [
    {
     "data": {
      "text/plain": [
       "array([1, 2, 3, 4])"
      ]
     },
     "execution_count": 5,
     "metadata": {},
     "output_type": "execute_result"
    }
   ],
   "source": [
    "# hstack (horizontal stacking)\n",
    "arr1 = np.array([1, 2])\n",
    "arr2 = np.array([3, 4])\n",
    "\n",
    "result = np.hstack((arr1, arr2))\n",
    "result\n",
    "\n",
    "# In horizontal stacking, row wise dimension should be matched."
   ]
  },
  {
   "cell_type": "code",
   "execution_count": 6,
   "metadata": {},
   "outputs": [
    {
     "data": {
      "text/plain": [
       "array([[1, 2, 5, 6],\n",
       "       [3, 4, 7, 8]])"
      ]
     },
     "execution_count": 6,
     "metadata": {},
     "output_type": "execute_result"
    }
   ],
   "source": [
    "a = np.array([[1, 2], \n",
    "              [3, 4]])\n",
    "\n",
    "b = np.array([[5, 6], \n",
    "              [7, 8]])\n",
    "\n",
    "np.hstack((a, b))"
   ]
  },
  {
   "cell_type": "code",
   "execution_count": null,
   "metadata": {},
   "outputs": [
    {
     "data": {
      "text/plain": [
       "array([[1, 5],\n",
       "       [2, 6],\n",
       "       [3, 7],\n",
       "       [4, 8]])"
      ]
     },
     "execution_count": 50,
     "metadata": {},
     "output_type": "execute_result"
    }
   ],
   "source": [
    "# column_stack\n",
    "arr1 = np.array([1, 2, 3, 4])\n",
    "arr2 = np.array([5, 6, 7, 8])\n",
    "\n",
    "np.column_stack((arr1, arr2))           # also can be done using\n",
    "                                        # np.transpose((arr1, arr2))\n",
    "# Dimension before :- 2 * 4\n",
    "# Dimension after :- 4 * 2\n",
    "\n",
    "# Note :- simply for understanding you can say\n",
    "        # rows becomes columns  &\n",
    "        # columns becomes rows"
   ]
  },
  {
   "cell_type": "code",
   "execution_count": null,
   "metadata": {},
   "outputs": [
    {
     "data": {
      "text/plain": [
       "[array([0, 1, 2, 3, 4]), array([5, 6, 7, 8, 9])]"
      ]
     },
     "execution_count": 2,
     "metadata": {},
     "output_type": "execute_result"
    }
   ],
   "source": [
    "# Spliting (np.split)\n",
    "\n",
    "# syntax :- (array_name, no_of_splits)\n",
    "\n",
    "arr = np.arange(10)\n",
    "np.split(arr, 2)\n",
    "\n",
    "# Note :- it is used when there are equal number of division."
   ]
  },
  {
   "cell_type": "code",
   "execution_count": null,
   "metadata": {},
   "outputs": [
    {
     "data": {
      "text/plain": [
       "[array([0, 1, 2, 3]), array([4, 5, 6]), array([7, 8, 9])]"
      ]
     },
     "execution_count": 94,
     "metadata": {},
     "output_type": "execute_result"
    }
   ],
   "source": [
    "# Spliting (np.array_split)\n",
    "\n",
    "# syntax :- (array_name, no_of_splits)\n",
    "\n",
    "arr = np.arange(10)\n",
    "np.array_split(arr, 3)\n",
    "\n",
    "# Note :- it is used when there are equal number of division as well as when\n",
    "#         there are unequal number of divisions."
   ]
  },
  {
   "cell_type": "code",
   "execution_count": null,
   "metadata": {},
   "outputs": [
    {
     "data": {
      "text/plain": [
       "array([[ 1,  2,  3,  4],\n",
       "       [ 5,  6,  7,  8],\n",
       "       [ 9, 10, 11, 12],\n",
       "       [13, 14, 15, 16]])"
      ]
     },
     "execution_count": 48,
     "metadata": {},
     "output_type": "execute_result"
    }
   ],
   "source": [
    "# np.hsplit (split column wise)\n",
    "\n",
    "# 1 \n",
    "arr = np.arange(1, 17).reshape(4, 4)       # 4 rows * 4 columns.\n",
    "arr"
   ]
  },
  {
   "cell_type": "code",
   "execution_count": 41,
   "metadata": {},
   "outputs": [
    {
     "data": {
      "text/plain": [
       "[array([[ 1,  2],\n",
       "        [ 5,  6],\n",
       "        [ 9, 10],\n",
       "        [13, 14]]),\n",
       " array([[ 3,  4],\n",
       "        [ 7,  8],\n",
       "        [11, 12],\n",
       "        [15, 16]])]"
      ]
     },
     "execution_count": 41,
     "metadata": {},
     "output_type": "execute_result"
    }
   ],
   "source": [
    "result = np.hsplit(arr, 2)              # or np.hsplit(arr, [1, 2]\n",
    "result                                  # here, 1 & 2 are indexes of columns"
   ]
  },
  {
   "cell_type": "code",
   "execution_count": 43,
   "metadata": {},
   "outputs": [
    {
     "name": "stdout",
     "output_type": "stream",
     "text": [
      "[array([[ 1,  2],\n",
      "       [ 5,  6],\n",
      "       [ 9, 10],\n",
      "       [13, 14]]), array([[ 3],\n",
      "       [ 7],\n",
      "       [11],\n",
      "       [15]]), array([[ 4],\n",
      "       [ 8],\n",
      "       [12],\n",
      "       [16]])]\n"
     ]
    }
   ],
   "source": [
    "# 2\n",
    "arr = np.arange(1, 17).reshape(4, 4)        #           0   1   2   3\n",
    "                                            #   \n",
    "print(np.hsplit(arr, [2, 3]))               #   0       1   2   3   4\n",
    "                                            #   1       5   6   7   8\n",
    "                                            #   2       9   10  11  12\n",
    "                                            #   3       13  14  15  16\n",
    "\n",
    "# note :- Here [2, 3] are column indexes, that separate column having indexes \n",
    "#         2 and 3 seperate. Understand through diagram mentioned above."
   ]
  },
  {
   "cell_type": "code",
   "execution_count": null,
   "metadata": {},
   "outputs": [
    {
     "data": {
      "text/plain": [
       "array([[ 0,  1,  2,  3],\n",
       "       [ 4,  5,  6,  7],\n",
       "       [ 8,  9, 10, 11],\n",
       "       [12, 13, 14, 15]])"
      ]
     },
     "execution_count": 5,
     "metadata": {},
     "output_type": "execute_result"
    }
   ],
   "source": [
    "# np.vsplit (split row wise)\n",
    "arr = np.arange(16).reshape(4, 4)       # 4 rows * 4 columns.\n",
    "arr"
   ]
  },
  {
   "cell_type": "code",
   "execution_count": 6,
   "metadata": {},
   "outputs": [
    {
     "data": {
      "text/plain": [
       "[array([[0, 1, 2, 3],\n",
       "        [4, 5, 6, 7]]),\n",
       " array([[ 8,  9, 10, 11],\n",
       "        [12, 13, 14, 15]])]"
      ]
     },
     "execution_count": 6,
     "metadata": {},
     "output_type": "execute_result"
    }
   ],
   "source": [
    "result = np.vsplit(arr, 2)              # or np.vsplit(arr, [1, 2]\n",
    "result                                  # here, 1 & 2 are indexes of rows"
   ]
  },
  {
   "cell_type": "markdown",
   "metadata": {},
   "source": [
    "END"
   ]
  },
  {
   "cell_type": "markdown",
   "metadata": {},
   "source": [
    "---"
   ]
  }
 ],
 "metadata": {
  "kernelspec": {
   "display_name": "Python 3",
   "language": "python",
   "name": "python3"
  },
  "language_info": {
   "codemirror_mode": {
    "name": "ipython",
    "version": 3
   },
   "file_extension": ".py",
   "mimetype": "text/x-python",
   "name": "python",
   "nbconvert_exporter": "python",
   "pygments_lexer": "ipython3",
   "version": "3.12.1"
  }
 },
 "nbformat": 4,
 "nbformat_minor": 2
}
