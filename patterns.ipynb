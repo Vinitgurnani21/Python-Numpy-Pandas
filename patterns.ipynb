{
 "cells": [
  {
   "cell_type": "markdown",
   "metadata": {},
   "source": [
    "# **Welcome to python patterns**"
   ]
  },
  {
   "cell_type": "markdown",
   "metadata": {},
   "source": [
    "Examples on looping"
   ]
  },
  {
   "cell_type": "code",
   "execution_count": 8,
   "metadata": {},
   "outputs": [
    {
     "name": "stdout",
     "output_type": "stream",
     "text": [
      "soumyadeep\n",
      "ryoiki\n",
      "anil\n",
      "vinit\n",
      "parth\n"
     ]
    }
   ],
   "source": [
    "# ex no. 01\n",
    "# looping in reverse\n",
    "\n",
    "name = [\"parth\", \"vinit\", \"anil\", \"ryoiki\", \"soumyadeep\"]\n",
    "\n",
    "i = len(name)-1\n",
    "while i >= 0 :\n",
    "    print(name[i])\n",
    "    i -= 1"
   ]
  },
  {
   "cell_type": "code",
   "execution_count": 9,
   "metadata": {},
   "outputs": [
    {
     "name": "stdout",
     "output_type": "stream",
     "text": [
      "parth\n",
      "vinit\n",
      "anil\n",
      "ryoiki\n",
      "soumyadeep\n"
     ]
    }
   ],
   "source": [
    "# ex no. 02\n",
    "# looping \n",
    "\n",
    "name = [\"parth\", \"vinit\", \"anil\", \"ryoiki\", \"soumyadeep\"]\n",
    "\n",
    "i = 0\n",
    "while i < len(name):\n",
    "    print(name[i])\n",
    "    i += 1"
   ]
  },
  {
   "cell_type": "code",
   "execution_count": 10,
   "metadata": {},
   "outputs": [
    {
     "name": "stdout",
     "output_type": "stream",
     "text": [
      "**outer loop ** 1 executed\n",
      "--inner loop-- 1 executed\n",
      "--inner loop-- 2 executed\n",
      "**outer loop ** 2 executed\n",
      "--inner loop-- 1 executed\n",
      "--inner loop-- 2 executed\n",
      "**outer loop ** 3 executed\n",
      "--inner loop-- 1 executed\n",
      "--inner loop-- 2 executed\n"
     ]
    }
   ],
   "source": [
    "# ex no. 03\n",
    "# generic example to understand ho looping works\n",
    "\n",
    "i = 1\n",
    "while i <= 3:\n",
    "  print(\"**outer loop **\", i, \"executed\")\n",
    "  j = 1\n",
    "  while j <= 2:\n",
    "    print(\"--inner loop--\", j, \"executed\")\n",
    "    j += 1\n",
    "  i += 1"
   ]
  },
  {
   "cell_type": "code",
   "execution_count": 11,
   "metadata": {},
   "outputs": [
    {
     "name": "stdout",
     "output_type": "stream",
     "text": [
      "* * * * * \n",
      "* * * * * \n",
      "* * * * * \n",
      "* * * * * \n",
      "* * * * * \n"
     ]
    }
   ],
   "source": [
    "# ex no. 04\n",
    "# 5 stars horizontally * five times\n",
    "\n",
    "num = int(input(\"Enter range :- \"))\n",
    "\n",
    "for i in range(0, num):\n",
    "  for j in range(0, num):\n",
    "    print(\"*\", end = \" \")\n",
    "    j < num\n",
    "  i < num\n",
    "  print()"
   ]
  },
  {
   "cell_type": "code",
   "execution_count": 12,
   "metadata": {},
   "outputs": [
    {
     "name": "stdout",
     "output_type": "stream",
     "text": [
      "* \n",
      "* * \n",
      "* * * \n",
      "* * * * \n",
      "* * * * * \n"
     ]
    }
   ],
   "source": [
    "# ex no . 04\n",
    "# stars incresing every line\n",
    "\n",
    "num = int(input(\"Enter the number of rows :- \"))\n",
    "\n",
    "for i in range(0, num):\n",
    "  for j in range(0, i+1):\n",
    "    print(\"*\", end=\" \")\n",
    "  print()\n"
   ]
  },
  {
   "cell_type": "code",
   "execution_count": 13,
   "metadata": {},
   "outputs": [
    {
     "name": "stdout",
     "output_type": "stream",
     "text": [
      "1 \n",
      "1 2 \n",
      "1 2 3 \n",
      "1 2 3 4 \n",
      "1 2 3 4 5 \n"
     ]
    }
   ],
   "source": [
    "# ex no. 05\n",
    "# number incresing horizontally in each line\n",
    "\n",
    "num = int(input(\"Enter range :- \"))\n",
    "\n",
    "for i in range(0, num):\n",
    "  for j in range(0, i+1):\n",
    "    print(j+1, end=\" \")\n",
    "  print()\n"
   ]
  },
  {
   "cell_type": "code",
   "execution_count": 14,
   "metadata": {},
   "outputs": [
    {
     "name": "stdout",
     "output_type": "stream",
     "text": [
      "1 \n",
      "2 2 \n",
      "3 3 3 \n",
      "4 4 4 4 \n",
      "5 5 5 5 5 \n"
     ]
    }
   ],
   "source": [
    "# ex no. 06\n",
    "# numbers incresing vertically and horizontally according there number\n",
    "\n",
    "num = int(input(\"Enter range :- \"))\n",
    "\n",
    "for i in range(0, num):\n",
    "  for j in range(0, i+1):\n",
    "    print(i+1, end=\" \")\n",
    "  print()"
   ]
  },
  {
   "cell_type": "code",
   "execution_count": 15,
   "metadata": {},
   "outputs": [
    {
     "name": "stdout",
     "output_type": "stream",
     "text": [
      "* * * * * \n",
      "* * * * \n",
      "* * * \n",
      "* * \n",
      "* \n"
     ]
    }
   ],
   "source": [
    "# ex no. 07\n",
    "# stars in decreasing in every line (using for loop)\n",
    "\n",
    "num = int(input(\"Enter range :- \"))\n",
    "\n",
    "for i in range(0, num):\n",
    "  print(\"* \"*(num-i), end=\"\")\n",
    "  print()"
   ]
  },
  {
   "cell_type": "code",
   "execution_count": 16,
   "metadata": {},
   "outputs": [
    {
     "name": "stdout",
     "output_type": "stream",
     "text": [
      "* * * * * \n",
      "* * * * \n",
      "* * * \n",
      "* * \n",
      "* \n"
     ]
    }
   ],
   "source": [
    "# ex no. 07\n",
    "# stars in decreasing in every line (using while loop)\n",
    "\n",
    "i = 0\n",
    "while i < 1:\n",
    "    j = 5\n",
    "    while j > 0:\n",
    "        print(\"* \"*j, end=\"\")\n",
    "        j -= 1\n",
    "        print()\n",
    "    i += 1"
   ]
  },
  {
   "cell_type": "code",
   "execution_count": 17,
   "metadata": {},
   "outputs": [
    {
     "name": "stdout",
     "output_type": "stream",
     "text": [
      "* \n",
      "* * * \n",
      "* * * * * \n",
      "* * * * * * * \n",
      "* * * * * * * * * \n"
     ]
    }
   ],
   "source": [
    "# ex no. 08\n",
    "# stars increasing by 2 in evert next line (using for loop)\n",
    "\n",
    "num = int(input(\"Enter number of rows :- \"))\n",
    "k = 0\n",
    "\n",
    "for i in range(0, num):\n",
    "    for j in range(0, k+1):\n",
    "        print(\"*\", end=\" \")\n",
    "    k += 2\n",
    "    print()"
   ]
  },
  {
   "cell_type": "code",
   "execution_count": 18,
   "metadata": {},
   "outputs": [
    {
     "name": "stdout",
     "output_type": "stream",
     "text": [
      "    * \n",
      "   * * \n",
      "  * * * \n",
      " * * * * \n",
      "* * * * * \n"
     ]
    }
   ],
   "source": [
    "# ex no. 09\n",
    "# stars in pyramid shape (using for loop)\n",
    "\n",
    "num = int(input(\"Enter number of rows :- \"))\n",
    "\n",
    "for i in range(0, num):\n",
    "    for j in range(0, num-i-1):\n",
    "        print(end=\" \")\n",
    "    for k in range(0, i+1):\n",
    "        print(\"*\", end=\" \")\n",
    "    print()"
   ]
  },
  {
   "cell_type": "code",
   "execution_count": 19,
   "metadata": {},
   "outputs": [
    {
     "name": "stdout",
     "output_type": "stream",
     "text": [
      "    * \n",
      "   * * \n",
      "  * * * \n",
      " * * * * \n",
      "* * * * * \n"
     ]
    }
   ],
   "source": [
    "# ex no. 21\n",
    "# stars in pyramid shape (using while loop)\n",
    "\n",
    "num = int(input(\"Enter the numbver of rows :- \"))\n",
    "\n",
    "row = 0\n",
    "while row < num:\n",
    "    space = num - row - 1\n",
    "    while space > 0:\n",
    "        print(end = \" \")\n",
    "        space = space - 1\n",
    "    star = row + 1\n",
    "    while star > 0:\n",
    "        print(\"*\", end=\" \")\n",
    "        star = star - 1\n",
    "    row = row + 1\n",
    "    print()"
   ]
  },
  {
   "cell_type": "code",
   "execution_count": 20,
   "metadata": {},
   "outputs": [
    {
     "name": "stdout",
     "output_type": "stream",
     "text": [
      "* * * * * \n",
      " * * * * \n",
      "  * * * \n",
      "   * * \n",
      "    * \n"
     ]
    }
   ],
   "source": [
    "# ex no. 10\n",
    "# stars in upside down pyramid shape (using for loop)\n",
    "\n",
    "num = int(input(\"Enter number of rows :- \"))\n",
    "\n",
    "for i in range(num, 0, -1):\n",
    "    for j in range(0, num-i):\n",
    "        print(end=\" \")\n",
    "    for j in range(0, i):\n",
    "        print(\"*\", end=\" \")\n",
    "    print()"
   ]
  },
  {
   "cell_type": "code",
   "execution_count": 22,
   "metadata": {},
   "outputs": [
    {
     "name": "stdout",
     "output_type": "stream",
     "text": [
      "    * \n",
      "   * * \n",
      "  * * * \n",
      " * * * * \n",
      "* * * * * \n",
      " * * * * \n",
      "  * * * \n",
      "   * * \n",
      "    * \n"
     ]
    }
   ],
   "source": [
    "# ex no. 11\n",
    "# stars in diamond shape (using for loop)\n",
    "\n",
    "num = int(input(\"Enter number of rows :- \"))\n",
    "\n",
    "for i in range(0, num):\n",
    "    for j in range(0, num-i-1):\n",
    "        print(end=\" \")\n",
    "    for j in range(0, i+1):\n",
    "        print(\"*\", end=\" \")\n",
    "    print()\n",
    "    \n",
    "for i in range(num-1, 0, -1):\n",
    "    for j in range(0, num-i):\n",
    "        print(end=\" \")\n",
    "    for j in range(0, i):\n",
    "        print(\"*\",end=\" \")\n",
    "    print()"
   ]
  },
  {
   "cell_type": "code",
   "execution_count": 23,
   "metadata": {},
   "outputs": [
    {
     "name": "stdout",
     "output_type": "stream",
     "text": [
      "* * * * * \n",
      "* * * * \n",
      "* * * \n",
      "* * \n",
      "* \n"
     ]
    }
   ],
   "source": [
    "# ex no. 12\n",
    "# stars decresing every next line (using for loop)\n",
    "\n",
    "num = int(input(\"Enter number of rows :- \"))\n",
    "\n",
    "for i in range(num, 0, -1):\n",
    "    for j in range(0, i):\n",
    "        print(\"*\",end=\" \")\n",
    "    print()"
   ]
  },
  {
   "cell_type": "code",
   "execution_count": 24,
   "metadata": {},
   "outputs": [
    {
     "name": "stdout",
     "output_type": "stream",
     "text": [
      "* \n",
      "* * \n",
      "* * * \n",
      "* * * * \n",
      "* * * * * \n"
     ]
    }
   ],
   "source": [
    "# ex no. 20\n",
    "# star incresing in every nest line (using while loop)\n",
    "\n",
    "num = int(input(\"Enter the number of rows :- \"))\n",
    "row = 0\n",
    "\n",
    "while row < num:\n",
    "    star = row + 1\n",
    "    while star > 0:\n",
    "        print(\"*\", end = \" \")\n",
    "        star = star - 1\n",
    "    row = row + 1\n",
    "    print()"
   ]
  },
  {
   "cell_type": "code",
   "execution_count": 25,
   "metadata": {},
   "outputs": [
    {
     "name": "stdout",
     "output_type": "stream",
     "text": [
      "* * * * * \n",
      "  *     * \n",
      "    *   * \n",
      "      * * \n",
      "        * \n"
     ]
    }
   ],
   "source": [
    "# ex no. 13\n",
    "# unfilled traingle jusat have boundaries (using for loop)\n",
    "\n",
    "num = int(input(\"Enter range :- \"))\n",
    "\n",
    "for row in range(0, num):\n",
    "    for column in range(0, num):\n",
    "        if row == 0 or column == (num-1) or row == column:\n",
    "            print(\"*\", end=\" \")\n",
    "        else:\n",
    "            print(end=\"  \")\n",
    "    print()"
   ]
  },
  {
   "cell_type": "code",
   "execution_count": 26,
   "metadata": {},
   "outputs": [
    {
     "name": "stdout",
     "output_type": "stream",
     "text": [
      "1  \n",
      "2  3  \n",
      "4  5  6  \n",
      "7  8  9  10  \n",
      "11  12  13  14  15  \n"
     ]
    }
   ],
   "source": [
    "# ex no. 14\n",
    "\n",
    "num = int(input(\"Enter the number of rows :- \"))\n",
    "temp = 1\n",
    "\n",
    "for row in range(1, num+1):\n",
    "    for column in range(1, row+1):\n",
    "        print(temp,end=\"  \")\n",
    "        temp += 1\n",
    "    print()"
   ]
  },
  {
   "cell_type": "code",
   "execution_count": 28,
   "metadata": {},
   "outputs": [
    {
     "name": "stdout",
     "output_type": "stream",
     "text": [
      "P \n",
      "P a \n",
      "P a v \n",
      "P a v i \n",
      "P a v i l \n",
      "P a v i l i \n",
      "P a v i l i o \n",
      "P a v i l i o n \n"
     ]
    }
   ],
   "source": [
    "# ex no. 15\n",
    "\n",
    "string = input(\"Enter the string :- \")\n",
    "length = len(string)\n",
    "\n",
    "for row in range(0, length):\n",
    "    for column in range(0, row+1):\n",
    "        print(string[column], end=\" \")\n",
    "    print()"
   ]
  },
  {
   "cell_type": "code",
   "execution_count": 29,
   "metadata": {},
   "outputs": [
    {
     "name": "stdout",
     "output_type": "stream",
     "text": [
      "1 2 3 4 5 \n",
      "1 2 3 4 \n",
      "1 2 3 \n",
      "1 2 \n",
      "1 \n"
     ]
    }
   ],
   "source": [
    "# ex no. 16\n",
    "\n",
    "num = int(input(\"Enter the number of rows :- \"))\n",
    "\n",
    "for row in range(num, 0, -1):\n",
    "    for column in range(1, row+1):\n",
    "        print(column, end=\" \")\n",
    "    print()"
   ]
  },
  {
   "cell_type": "code",
   "execution_count": 30,
   "metadata": {},
   "outputs": [
    {
     "name": "stdout",
     "output_type": "stream",
     "text": [
      "5 5 5 5 5 \n",
      "4 4 4 4 \n",
      "3 3 3 \n",
      "2 2 \n",
      "1 \n"
     ]
    }
   ],
   "source": [
    "# ex no. 17\n",
    "\n",
    "num = int(input(\"Enter the number of rows :- \"))\n",
    "\n",
    "for row in range(num, 0, -1):\n",
    "    for column in range(1, row+1):\n",
    "        print(row, end=\" \")\n",
    "    print()"
   ]
  },
  {
   "cell_type": "code",
   "execution_count": 33,
   "metadata": {},
   "outputs": [
    {
     "name": "stdout",
     "output_type": "stream",
     "text": [
      "     *     \n",
      "    * *    \n",
      "   *   *   \n",
      "  *     *  \n",
      " *       * \n",
      "***********\n"
     ]
    }
   ],
   "source": [
    "# ex no. 18\n",
    "\n",
    "num = int(input(\"Enter the number of rows :- \"))\n",
    "\n",
    "for row in range(1, num+1):\n",
    "    for column in range(1, num*2):\n",
    "        if row == num or (row + column) == num+1 or (column - row) == num-1:\n",
    "            print(\"*\", end=\"\")\n",
    "        else:\n",
    "            print(end=\" \")\n",
    "    print()"
   ]
  },
  {
   "cell_type": "code",
   "execution_count": 34,
   "metadata": {},
   "outputs": [
    {
     "name": "stdout",
     "output_type": "stream",
     "text": [
      "     *     \n",
      "    * *    \n",
      "   *   *   \n",
      "  *     *  \n",
      " *       * \n",
      "* * * * * *\n"
     ]
    }
   ],
   "source": [
    "# ex no. 19\n",
    "\n",
    "num = int(input(\"Enter the number of rows :- \"))\n",
    "k = 2\n",
    "\n",
    "for row in range(1, num+1):\n",
    "    for column in range(1, num*2):\n",
    "        if (row + column) == num+1 or (column - row) == num-1:\n",
    "            print(\"*\", end=\"\")\n",
    "        elif row == num and column != k:\n",
    "            print(\"*\", end=\"\")\n",
    "            k = k + 2\n",
    "        else:\n",
    "            print(end=\" \")\n",
    "    print()"
   ]
  },
  {
   "cell_type": "markdown",
   "metadata": {},
   "source": [
    "End"
   ]
  },
  {
   "cell_type": "markdown",
   "metadata": {},
   "source": [
    "---"
   ]
  }
 ],
 "metadata": {
  "kernelspec": {
   "display_name": "Python 3",
   "language": "python",
   "name": "python3"
  },
  "language_info": {
   "codemirror_mode": {
    "name": "ipython",
    "version": 3
   },
   "file_extension": ".py",
   "mimetype": "text/x-python",
   "name": "python",
   "nbconvert_exporter": "python",
   "pygments_lexer": "ipython3",
   "version": "3.12.1"
  }
 },
 "nbformat": 4,
 "nbformat_minor": 2
}
